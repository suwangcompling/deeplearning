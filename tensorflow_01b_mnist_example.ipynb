{
 "cells": [
  {
   "cell_type": "markdown",
   "metadata": {},
   "source": [
    "# MNIST"
   ]
  },
  {
   "cell_type": "markdown",
   "metadata": {},
   "source": [
    "## 0. Import Data"
   ]
  },
  {
   "cell_type": "code",
   "execution_count": 2,
   "metadata": {
    "collapsed": false
   },
   "outputs": [
    {
     "name": "stdout",
     "output_type": "stream",
     "text": [
      "Extracting MNIST_data/train-images-idx3-ubyte.gz\n",
      "Extracting MNIST_data/train-labels-idx1-ubyte.gz\n",
      "Extracting MNIST_data/t10k-images-idx3-ubyte.gz\n",
      "Extracting MNIST_data/t10k-labels-idx1-ubyte.gz\n"
     ]
    }
   ],
   "source": [
    "from tensorflow.examples.tutorials.mnist import input_data\n",
    "mnist = input_data.read_data_sets(\"MNIST_data/\", one_hot=True)"
   ]
  },
  {
   "cell_type": "code",
   "execution_count": 3,
   "metadata": {
    "collapsed": false
   },
   "outputs": [
    {
     "name": "stdout",
     "output_type": "stream",
     "text": [
      "<class 'tensorflow.contrib.learn.python.learn.datasets.base.Datasets'>\n"
     ]
    }
   ],
   "source": [
    "print type(mnist)"
   ]
  },
  {
   "cell_type": "code",
   "execution_count": 4,
   "metadata": {
    "collapsed": false
   },
   "outputs": [
    {
     "name": "stdout",
     "output_type": "stream",
     "text": [
      "55000 55000\n",
      "<type 'numpy.ndarray'> <type 'numpy.ndarray'>\n",
      "(55000, 784) (55000, 10)\n",
      "(784,) [ 0.  0.  0.  0.  0.  0.  0.  1.  0.  0.]\n"
     ]
    }
   ],
   "source": [
    "print len(mnist.train.images), len(mnist.train.labels)\n",
    "print type(mnist.train.images[0]), type(mnist.train.labels[0])\n",
    "print mnist.train.images.shape, mnist.train.labels.shape\n",
    "print mnist.train.images[0].shape, mnist.train.labels[0]"
   ]
  },
  {
   "cell_type": "markdown",
   "metadata": {},
   "source": [
    "## I. First Model\n",
    "\n",
    "* Softmax Regression: $y = softmax(Wx+b)$"
   ]
  },
  {
   "cell_type": "code",
   "execution_count": 5,
   "metadata": {
    "collapsed": false
   },
   "outputs": [],
   "source": [
    "import tensorflow as tf\n",
    "from tensorflow import placeholder, Variable"
   ]
  },
  {
   "cell_type": "markdown",
   "metadata": {},
   "source": [
    "** Define Predictive Function **\n",
    "\n",
    "* $y = \\texttt{softmax}(Wx+b)$"
   ]
  },
  {
   "cell_type": "code",
   "execution_count": 6,
   "metadata": {
    "collapsed": false
   },
   "outputs": [],
   "source": [
    "x = placeholder(tf.float32, [None, 784]) # 'None' means row-dim can be any number.\n",
    "W = Variable(tf.zeros([784, 10]))\n",
    "b = Variable(tf.zeros([10]))"
   ]
  },
  {
   "cell_type": "code",
   "execution_count": 7,
   "metadata": {
    "collapsed": true
   },
   "outputs": [],
   "source": [
    "y = tf.nn.softmax(tf.matmul(x,W)+b)"
   ]
  },
  {
   "cell_type": "markdown",
   "metadata": {},
   "source": [
    "** Define Cost function (CrossEnt) **\n",
    "\n",
    "* $H_{y'}(y) = -\\sum_i{y_i'} \\texttt{log}(y_i)$, where $y',y$ are true, predicted distribution respectively."
   ]
  },
  {
   "cell_type": "code",
   "execution_count": 8,
   "metadata": {
    "collapsed": false
   },
   "outputs": [],
   "source": [
    "y_ = placeholder(tf.float32, [None, 10]) # true distribution.\n",
    "crossent = tf.reduce_mean(-tf.reduce_sum(y_ * tf.log(y),reduction_indices=[1]))"
   ]
  },
  {
   "cell_type": "markdown",
   "metadata": {},
   "source": [
    "** Training **"
   ]
  },
  {
   "cell_type": "code",
   "execution_count": 9,
   "metadata": {
    "collapsed": false
   },
   "outputs": [],
   "source": [
    "train_step = tf.train.GradientDescentOptimizer(learning_rate=.5).minimize(crossent)"
   ]
  },
  {
   "cell_type": "code",
   "execution_count": 12,
   "metadata": {
    "collapsed": false
   },
   "outputs": [],
   "source": [
    "sess = tf.Session()\n",
    "# init = tf.initialize_all_variables() # deprecated 2017-03-02\n",
    "init = tf.global_variables_initializer()\n",
    "sess.run(init)"
   ]
  },
  {
   "cell_type": "code",
   "execution_count": 43,
   "metadata": {
    "collapsed": false,
    "scrolled": true
   },
   "outputs": [
    {
     "name": "stdout",
     "output_type": "stream",
     "text": [
      "CPU times: user 2.4 s, sys: 4.05 s, total: 6.46 s\n",
      "Wall time: 3.9 s\n"
     ]
    }
   ],
   "source": [
    "%%time\n",
    "for i in range(1000):\n",
    "    batch_xs, batch_ys = mnist.train.next_batch(100) # next_batch returns a tuple of (x,y), x=100x784, y=100x10 here.\n",
    "    sess.run(train_step, feed_dict={x:batch_xs, y_:batch_ys})"
   ]
  },
  {
   "cell_type": "code",
   "execution_count": 60,
   "metadata": {
    "collapsed": false
   },
   "outputs": [
    {
     "data": {
      "text/plain": [
       "array([[ 0.,  0.,  0., ...,  0.,  0.,  0.],\n",
       "       [ 0.,  0.,  0., ...,  0.,  0.,  0.],\n",
       "       [ 0.,  0.,  0., ...,  0.,  0.,  0.],\n",
       "       ..., \n",
       "       [ 0.,  0.,  0., ...,  0.,  0.,  0.],\n",
       "       [ 0.,  0.,  0., ...,  0.,  0.,  0.],\n",
       "       [ 0.,  0.,  0., ...,  0.,  0.,  0.]], dtype=float32)"
      ]
     },
     "execution_count": 60,
     "metadata": {},
     "output_type": "execute_result"
    }
   ],
   "source": [
    "mnist.train.next_batch(10)[0]"
   ]
  },
  {
   "cell_type": "markdown",
   "metadata": {},
   "source": [
    "** Evaluation **"
   ]
  },
  {
   "cell_type": "code",
   "execution_count": 21,
   "metadata": {
    "collapsed": true
   },
   "outputs": [],
   "source": [
    "correct_prediction = tf.equal(tf.argmax(y,1), tf.argmax(y_,1)) # tf.argmax(data, axis). we get boolean results here."
   ]
  },
  {
   "cell_type": "code",
   "execution_count": 46,
   "metadata": {
    "collapsed": false
   },
   "outputs": [],
   "source": [
    "accuracy = tf.reduce_mean(tf.cast(correct_prediction, tf.float32))"
   ]
  },
  {
   "cell_type": "code",
   "execution_count": 51,
   "metadata": {
    "collapsed": false
   },
   "outputs": [
    {
     "name": "stdout",
     "output_type": "stream",
     "text": [
      "<class 'tensorflow.python.framework.ops.Tensor'>\n",
      "<class 'tensorflow.python.framework.ops.Tensor'>\n"
     ]
    }
   ],
   "source": [
    "print type(correct_prediction)\n",
    "print type(accuracy)"
   ]
  },
  {
   "cell_type": "code",
   "execution_count": 52,
   "metadata": {
    "collapsed": false
   },
   "outputs": [
    {
     "name": "stdout",
     "output_type": "stream",
     "text": [
      "91.8727278709\n",
      "92.0799970627\n"
     ]
    }
   ],
   "source": [
    "print sess.run(accuracy, feed_dict={x: mnist.train.images, y_: mnist.train.labels})*100\n",
    "print sess.run(accuracy, feed_dict={x: mnist.test.images, y_: mnist.test.labels})*100"
   ]
  },
  {
   "cell_type": "markdown",
   "metadata": {},
   "source": [
    "## II. Second Model\n",
    "\n",
    "* Convolutional Net"
   ]
  },
  {
   "cell_type": "code",
   "execution_count": 54,
   "metadata": {
    "collapsed": true
   },
   "outputs": [],
   "source": [
    "import tensorflow as tf\n",
    "from tensorflow import placeholder, Variable"
   ]
  },
  {
   "cell_type": "code",
   "execution_count": 36,
   "metadata": {
    "collapsed": true
   },
   "outputs": [],
   "source": [
    "def weight_variable(shape):\n",
    "    init = tf.truncated_normal(shape, stddev=.1)\n",
    "    return Variable(init)\n",
    "def bias_variable(shape):\n",
    "    init = tf.constant(.1, shape=shape)\n",
    "    return Variable(init)"
   ]
  },
  {
   "cell_type": "code",
   "execution_count": 37,
   "metadata": {
    "collapsed": true
   },
   "outputs": [],
   "source": [
    "def conv2d(x, W):\n",
    "    return tf.nn.conv2d(x, W, strides=[1, 1, 1, 1], padding='SAME')\n",
    "\n",
    "def max_pool_2x2(x):\n",
    "    return tf.nn.max_pool(x, ksize=[1, 2, 2, 1],\n",
    "                             strides=[1, 2, 2, 1], padding='SAME')"
   ]
  },
  {
   "cell_type": "code",
   "execution_count": 38,
   "metadata": {
    "collapsed": false
   },
   "outputs": [],
   "source": [
    "# FIRST LAYER\n",
    "W_conv1 = weight_variable([5, 5, 1, 32]) # [patch_width, path_height, input_dim, output_dim]\n",
    "b_conv1 = bias_variable([32])\n",
    "x_image = tf.reshape(x, [-1,28,28,1]) # [?, image_width, image_height, num_col_channel]\n",
    "h_conv1 = tf.nn.relu(conv2d(x_image, W_conv1) + b_conv1)\n",
    "h_pool1 = max_pool_2x2(h_conv1) # image_dim: 28x28 -> 14x14"
   ]
  },
  {
   "cell_type": "code",
   "execution_count": 40,
   "metadata": {
    "collapsed": true
   },
   "outputs": [],
   "source": [
    "# SECOND LAYER\n",
    "W_conv2 = weight_variable([5, 5, 32, 64])\n",
    "b_conv2 = bias_variable([64])\n",
    "h_conv2 = tf.nn.relu(conv2d(h_pool1, W_conv2) + b_conv2)\n",
    "h_pool2 = max_pool_2x2(h_conv2) # image_dim: 14x14 -> 7x7"
   ]
  },
  {
   "cell_type": "code",
   "execution_count": 41,
   "metadata": {
    "collapsed": true
   },
   "outputs": [],
   "source": [
    "# DENSE LAYER\n",
    "W_fc1 = weight_variable([7 * 7 * 64, 1024])\n",
    "b_fc1 = bias_variable([1024])\n",
    "h_pool2_flat = tf.reshape(h_pool2, [-1, 7*7*64])\n",
    "h_fc1 = tf.nn.relu(tf.matmul(h_pool2_flat, W_fc1) + b_fc1)"
   ]
  },
  {
   "cell_type": "code",
   "execution_count": 42,
   "metadata": {
    "collapsed": true
   },
   "outputs": [],
   "source": [
    "# DROPOUT\n",
    "keep_prob = tf.placeholder(tf.float32)\n",
    "h_fc1_drop = tf.nn.dropout(h_fc1, keep_prob)"
   ]
  },
  {
   "cell_type": "code",
   "execution_count": 43,
   "metadata": {
    "collapsed": true
   },
   "outputs": [],
   "source": [
    "# SOFTMAX\n",
    "W_fc2 = weight_variable([1024, 10])\n",
    "b_fc2 = bias_variable([10])\n",
    "y_conv = tf.nn.softmax(tf.matmul(h_fc1_drop, W_fc2) + b_fc2)"
   ]
  },
  {
   "cell_type": "code",
   "execution_count": 54,
   "metadata": {
    "collapsed": false,
    "scrolled": true
   },
   "outputs": [
    {
     "name": "stdout",
     "output_type": "stream",
     "text": [
      "step 0, train accuracy 0.06\n",
      "step 100, train accuracy 0.78\n",
      "step 200, train accuracy 0.9\n",
      "step 300, train accuracy 0.92\n",
      "step 400, train accuracy 0.94\n",
      "step 500, train accuracy 0.82\n",
      "step 600, train accuracy 0.94\n",
      "step 700, train accuracy 0.96\n",
      "step 800, train accuracy 0.94\n",
      "step 900, train accuracy 0.92\n",
      "step 1000, train accuracy 0.96\n",
      "step 1100, train accuracy 0.96\n",
      "step 1200, train accuracy 0.96\n",
      "step 1300, train accuracy 0.98\n",
      "step 1400, train accuracy 1\n",
      "step 1500, train accuracy 1\n",
      "step 1600, train accuracy 0.98\n",
      "step 1700, train accuracy 0.96\n",
      "step 1800, train accuracy 0.9\n",
      "step 1900, train accuracy 0.98\n",
      "step 2000, train accuracy 0.98\n",
      "step 2100, train accuracy 0.96\n",
      "step 2200, train accuracy 1\n",
      "step 2300, train accuracy 0.98\n",
      "step 2400, train accuracy 0.96\n",
      "step 2500, train accuracy 0.96\n",
      "step 2600, train accuracy 1\n",
      "step 2700, train accuracy 0.98\n",
      "step 2800, train accuracy 0.96\n",
      "step 2900, train accuracy 0.96\n",
      "step 3000, train accuracy 0.98\n",
      "step 3100, train accuracy 1\n",
      "step 3200, train accuracy 0.92\n",
      "step 3300, train accuracy 0.96\n",
      "step 3400, train accuracy 1\n",
      "step 3500, train accuracy 0.94\n",
      "step 3600, train accuracy 0.96\n",
      "step 3700, train accuracy 1\n",
      "step 3800, train accuracy 1\n",
      "step 3900, train accuracy 0.98\n",
      "step 4000, train accuracy 0.98\n",
      "step 4100, train accuracy 1\n",
      "step 4200, train accuracy 1\n",
      "step 4300, train accuracy 0.98\n",
      "step 4400, train accuracy 0.98\n",
      "step 4500, train accuracy 0.98\n",
      "step 4600, train accuracy 1\n",
      "step 4700, train accuracy 1\n",
      "step 4800, train accuracy 1\n",
      "step 4900, train accuracy 0.98\n",
      "step 5000, train accuracy 1\n",
      "step 5100, train accuracy 0.98\n",
      "step 5200, train accuracy 1\n",
      "step 5300, train accuracy 1\n",
      "step 5400, train accuracy 0.98\n",
      "step 5500, train accuracy 1\n",
      "step 5600, train accuracy 0.98\n",
      "step 5700, train accuracy 1\n",
      "step 5800, train accuracy 1\n",
      "step 5900, train accuracy 1\n",
      "step 6000, train accuracy 1\n",
      "step 6100, train accuracy 1\n",
      "step 6200, train accuracy 1\n",
      "step 6300, train accuracy 1\n",
      "step 6400, train accuracy 1\n",
      "step 6500, train accuracy 1\n",
      "step 6600, train accuracy 1\n",
      "step 6700, train accuracy 1\n",
      "step 6800, train accuracy 1\n",
      "step 6900, train accuracy 1\n",
      "step 7000, train accuracy 1\n",
      "step 7100, train accuracy 1\n",
      "step 7200, train accuracy 1\n",
      "step 7300, train accuracy 1\n",
      "step 7400, train accuracy 1\n",
      "step 7500, train accuracy 1\n",
      "step 7600, train accuracy 0.98\n",
      "step 7700, train accuracy 1\n",
      "step 7800, train accuracy 0.98\n",
      "step 7900, train accuracy 0.98\n",
      "step 8000, train accuracy 0.98\n",
      "step 8100, train accuracy 1\n",
      "step 8200, train accuracy 1\n",
      "step 8300, train accuracy 1\n",
      "step 8400, train accuracy 1\n",
      "step 8500, train accuracy 1\n",
      "step 8600, train accuracy 1\n",
      "step 8700, train accuracy 0.98\n",
      "step 8800, train accuracy 1\n",
      "step 8900, train accuracy 1\n",
      "step 9000, train accuracy 1\n",
      "step 9100, train accuracy 1\n",
      "step 9200, train accuracy 1\n",
      "step 9300, train accuracy 1\n",
      "step 9400, train accuracy 1\n",
      "step 9500, train accuracy 1\n",
      "step 9600, train accuracy 0.98\n",
      "step 9700, train accuracy 1\n",
      "step 9800, train accuracy 1\n",
      "step 9900, train accuracy 1\n",
      "step 10000, train accuracy 0.98\n",
      "step 10100, train accuracy 1\n",
      "step 10200, train accuracy 1\n",
      "step 10300, train accuracy 1\n",
      "step 10400, train accuracy 0.98\n",
      "step 10500, train accuracy 1\n",
      "step 10600, train accuracy 0.98\n",
      "step 10700, train accuracy 1\n",
      "step 10800, train accuracy 1\n",
      "step 10900, train accuracy 0.98\n",
      "step 11000, train accuracy 1\n",
      "step 11100, train accuracy 1\n",
      "step 11200, train accuracy 1\n",
      "step 11300, train accuracy 1\n",
      "step 11400, train accuracy 1\n",
      "step 11500, train accuracy 1\n",
      "step 11600, train accuracy 1\n",
      "step 11700, train accuracy 0.98\n",
      "step 11800, train accuracy 1\n",
      "step 11900, train accuracy 0.98\n",
      "step 12000, train accuracy 1\n",
      "step 12100, train accuracy 1\n",
      "step 12200, train accuracy 1\n",
      "step 12300, train accuracy 1\n",
      "step 12400, train accuracy 1\n",
      "step 12500, train accuracy 1\n",
      "step 12600, train accuracy 1\n",
      "step 12700, train accuracy 1\n",
      "step 12800, train accuracy 1\n",
      "step 12900, train accuracy 1\n",
      "step 13000, train accuracy 1\n",
      "step 13100, train accuracy 1\n",
      "step 13200, train accuracy 1\n",
      "step 13300, train accuracy 0.98\n",
      "step 13400, train accuracy 1\n",
      "step 13500, train accuracy 1\n",
      "step 13600, train accuracy 0.98\n",
      "step 13700, train accuracy 1\n",
      "step 13800, train accuracy 1\n",
      "step 13900, train accuracy 1\n",
      "step 14000, train accuracy 1\n",
      "step 14100, train accuracy 1\n",
      "step 14200, train accuracy 1\n",
      "step 14300, train accuracy 1\n",
      "step 14400, train accuracy 1\n",
      "step 14500, train accuracy 1\n",
      "step 14600, train accuracy 1\n",
      "step 14700, train accuracy 1\n",
      "step 14800, train accuracy 1\n",
      "step 14900, train accuracy 1\n",
      "step 15000, train accuracy 1\n",
      "step 15100, train accuracy 1\n",
      "step 15200, train accuracy 1\n",
      "step 15300, train accuracy 1\n",
      "step 15400, train accuracy 1\n",
      "step 15500, train accuracy 1\n",
      "step 15600, train accuracy 1\n",
      "step 15700, train accuracy 1\n",
      "step 15800, train accuracy 1\n",
      "step 15900, train accuracy 1\n",
      "step 16000, train accuracy 1\n",
      "step 16100, train accuracy 1\n",
      "step 16200, train accuracy 1\n",
      "step 16300, train accuracy 1\n",
      "step 16400, train accuracy 1\n",
      "step 16500, train accuracy 0.98\n",
      "step 16600, train accuracy 1\n",
      "step 16700, train accuracy 1\n",
      "step 16800, train accuracy 1\n",
      "step 16900, train accuracy 1\n",
      "step 17000, train accuracy 1\n",
      "step 17100, train accuracy 1\n",
      "step 17200, train accuracy 1\n",
      "step 17300, train accuracy 1\n",
      "step 17400, train accuracy 1\n",
      "step 17500, train accuracy 1\n",
      "step 17600, train accuracy 1\n",
      "step 17700, train accuracy 1\n",
      "step 17800, train accuracy 1\n",
      "step 17900, train accuracy 1\n",
      "step 18000, train accuracy 1\n",
      "step 18100, train accuracy 1\n",
      "step 18200, train accuracy 1\n",
      "step 18300, train accuracy 0.98\n",
      "step 18400, train accuracy 0.98\n",
      "step 18500, train accuracy 1\n",
      "step 18600, train accuracy 1\n",
      "step 18700, train accuracy 1\n",
      "step 18800, train accuracy 1\n",
      "step 18900, train accuracy 1\n",
      "step 19000, train accuracy 1\n",
      "step 19100, train accuracy 1\n",
      "step 19200, train accuracy 1\n",
      "step 19300, train accuracy 1\n",
      "step 19400, train accuracy 1\n",
      "step 19500, train accuracy 1\n",
      "step 19600, train accuracy 1\n",
      "step 19700, train accuracy 1\n",
      "step 19800, train accuracy 1\n",
      "step 19900, train accuracy 1\n",
      "test accuracy 0.9915\n"
     ]
    }
   ],
   "source": [
    "# TRAIN\n",
    "cross_entropy = tf.reduce_mean(-tf.reduce_sum(y_ * tf.log(y_conv), reduction_indices=[1]))\n",
    "train_step = tf.train.AdamOptimizer(1e-4).minimize(cross_entropy)\n",
    "correct_prediction = tf.equal(tf.argmax(y_conv,1), tf.argmax(y_,1))\n",
    "accuracy = tf.reduce_mean(tf.cast(correct_prediction, tf.float32))\n",
    "sess = tf.Session()\n",
    "sess.run(tf.global_variables_initializer())\n",
    "for i in range(20000):\n",
    "    batch = mnist.train.next_batch(50)\n",
    "    if i%100 == 0:\n",
    "        train_accuracy = accuracy.eval(session=sess,feed_dict={x:batch[0],y_:batch[1],keep_prob:1.0})\n",
    "        print \"step %d, train accuracy %g\" % (i, train_accuracy)\n",
    "    train_step.run(session=sess,feed_dict={x:batch[0],y_:batch[1],keep_prob:0.5})\n",
    "print \"test accuracy %g\" % accuracy.eval(session=sess,feed_dict={x: mnist.test.images, y_: mnist.test.labels, keep_prob: 1.0})"
   ]
  },
  {
   "cell_type": "markdown",
   "metadata": {
    "collapsed": true
   },
   "source": [
    "### MORE\n",
    "\n",
    "* MLP (https://github.com/tensorflow/tensorflow/blob/master/tensorflow/examples/tutorials/mnist/mnist.py)"
   ]
  }
 ],
 "metadata": {
  "kernelspec": {
   "display_name": "Python 2",
   "language": "python",
   "name": "python2"
  },
  "language_info": {
   "codemirror_mode": {
    "name": "ipython",
    "version": 2
   },
   "file_extension": ".py",
   "mimetype": "text/x-python",
   "name": "python",
   "nbconvert_exporter": "python",
   "pygments_lexer": "ipython2",
   "version": "2.7.11"
  }
 },
 "nbformat": 4,
 "nbformat_minor": 0
}
