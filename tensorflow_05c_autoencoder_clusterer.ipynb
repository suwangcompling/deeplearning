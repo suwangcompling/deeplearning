{
 "cells": [
  {
   "cell_type": "code",
   "execution_count": 88,
   "metadata": {
    "collapsed": true
   },
   "outputs": [],
   "source": [
    "import tensorflow as tf\n",
    "from random import choice, shuffle\n",
    "import numpy as np\n",
    "import matplotlib.pyplot as plt\n",
    "%matplotlib inline\n",
    "from sklearn.cluster import KMeans\n",
    "from sklearn.metrics import accuracy_score\n",
    "from collections import defaultdict\n",
    "import random, math\n",
    "from __future__ import division"
   ]
  },
  {
   "cell_type": "code",
   "execution_count": 80,
   "metadata": {
    "collapsed": false
   },
   "outputs": [
    {
     "name": "stdout",
     "output_type": "stream",
     "text": [
      "Extracting ./train-images-idx3-ubyte.gz\n",
      "Extracting ./train-labels-idx1-ubyte.gz\n",
      "Extracting ./t10k-images-idx3-ubyte.gz\n",
      "Extracting ./t10k-labels-idx1-ubyte.gz\n"
     ]
    }
   ],
   "source": [
    "# LOAD DATA\n",
    "\n",
    "from tensorflow.examples.tutorials.mnist import input_data\n",
    "mnist = input_data.read_data_sets('.', one_hot=True)"
   ]
  },
  {
   "cell_type": "code",
   "execution_count": 109,
   "metadata": {
    "collapsed": false
   },
   "outputs": [
    {
     "name": "stdout",
     "output_type": "stream",
     "text": [
      "('Epoch: ', '0001', 'cost = ', '0.147859231')\n",
      "('Epoch: ', '0002', 'cost = ', '0.109573215')\n",
      "('Epoch: ', '0003', 'cost = ', '0.111675732')\n",
      "('Epoch: ', '0004', 'cost = ', '0.105503134')\n",
      "('Epoch: ', '0005', 'cost = ', '0.108217567')\n",
      "('Epoch: ', '0006', 'cost = ', '0.107860312')\n",
      "('Epoch: ', '0007', 'cost = ', '0.106146522')\n",
      "('Epoch: ', '0008', 'cost = ', '0.104600303')\n",
      "('Epoch: ', '0009', 'cost = ', '0.098469868')\n",
      "('Epoch: ', '0010', 'cost = ', '0.100609973')\n",
      "('Epoch: ', '0011', 'cost = ', '0.092984900')\n",
      "('Epoch: ', '0012', 'cost = ', '0.090369962')\n",
      "('Epoch: ', '0013', 'cost = ', '0.086961009')\n",
      "('Epoch: ', '0014', 'cost = ', '0.083921298')\n",
      "('Epoch: ', '0015', 'cost = ', '0.079983167')\n",
      "('Epoch: ', '0016', 'cost = ', '0.076307975')\n",
      "('Epoch: ', '0017', 'cost = ', '0.077306651')\n",
      "('Epoch: ', '0018', 'cost = ', '0.073804654')\n",
      "('Epoch: ', '0019', 'cost = ', '0.071962044')\n",
      "('Epoch: ', '0020', 'cost = ', '0.068388939')\n",
      "Optimization Finished!\n",
      "\n"
     ]
    }
   ],
   "source": [
    "# BUILDING GRAPH\n",
    "\n",
    "learning_rate = .01\n",
    "training_epochs = 20\n",
    "batch_size = 256\n",
    "display_step = 1\n",
    "examples_to_show = 10\n",
    "\n",
    "n_hidden_1 = 256\n",
    "n_hidden_2 = 128\n",
    "n_input = 784\n",
    "\n",
    "X = tf.placeholder('float', [None, n_input])\n",
    "keep_prob = tf.placeholder(tf.float32)\n",
    "weights = {\n",
    "    'encoder_h1': tf.Variable(tf.random_normal([n_input, n_hidden_1])),\n",
    "    'encoder_h2': tf.Variable(tf.random_normal([n_hidden_1, n_hidden_2])),\n",
    "    'decoder_h1': tf.Variable(tf.random_normal([n_hidden_2, n_hidden_1])),\n",
    "    'decoder_h2': tf.Variable(tf.random_normal([n_hidden_1, n_input])),\n",
    "}\n",
    "biases = {\n",
    "    'encoder_b1': tf.Variable(tf.random_normal([n_hidden_1])),\n",
    "    'encoder_b2': tf.Variable(tf.random_normal([n_hidden_2])),\n",
    "    'decoder_b1': tf.Variable(tf.random_normal([n_hidden_1])),\n",
    "    'decoder_b2': tf.Variable(tf.random_normal([n_input])),\n",
    "}\n",
    "\n",
    "def encoder(x):\n",
    "    layer_drop1 = tf.nn.dropout(x, keep_prob)\n",
    "    layer_1 = tf.nn.sigmoid(tf.add(tf.matmul(layer_drop1, weights['encoder_h1']), biases['encoder_b1']))\n",
    "    layer_drop2 = tf.nn.dropout(layer_1, keep_prob)\n",
    "    layer_2 = tf.nn.sigmoid(tf.add(tf.matmul(layer_drop2, weights['encoder_h2']), biases['encoder_b2']))\n",
    "    return layer_2\n",
    "def decoder(x):\n",
    "    layer_drop1 = tf.nn.dropout(x, keep_prob)\n",
    "    layer_1 = tf.nn.sigmoid(tf.add(tf.matmul(layer_drop1, weights['decoder_h1']), biases['decoder_b1']))\n",
    "    layer_drop2 = tf.nn.dropout(layer_1, keep_prob)\n",
    "    layer_2 = tf.nn.sigmoid(tf.add(tf.matmul(layer_drop2, weights['decoder_h2']), biases['decoder_b2']))\n",
    "    return layer_2 \n",
    "encoder_op = encoder(X)\n",
    "decoder_op = decoder(encoder_op)\n",
    "\n",
    "# === DIRECT TAKE FROM ENCODER'S OUTPUT FOR CLUSTERING\n",
    "\n",
    "encoded_X = encoder_op # 128D output.\n",
    "\n",
    "# ===\n",
    "\n",
    "y_pred = decoder_op\n",
    "y_true = X\n",
    "cost = tf.reduce_mean(tf.pow(y_true - y_pred, 2))\n",
    "optimizer = tf.train.RMSPropOptimizer(learning_rate).minimize(cost)\n",
    "\n",
    "# TRAINING\n",
    "\n",
    "sess = tf.Session()\n",
    "sess.run(tf.global_variables_initializer())\n",
    "\n",
    "total_batch = int(mnist.train.num_examples/batch_size)\n",
    "for epoch in range(training_epochs):\n",
    "    for i in range(total_batch):\n",
    "        batch_xs, batch_ys = mnist.train.next_batch(batch_size)\n",
    "        _, c = sess.run([optimizer, cost], feed_dict={X:batch_xs, keep_prob:.5})\n",
    "    if epoch % display_step == 0:\n",
    "        print('Epoch: ', '%04d' % (epoch+1),\n",
    "              'cost = ', '{:.9f}'.format(c))\n",
    "print('Optimization Finished!')\n",
    "print\n",
    "\n",
    "# GET DIM-REDUCED OUTPUT\n",
    "\n",
    "Z = sess.run(encoded_X, feed_dict={X:mnist.train.images, keep_prob:1.})"
   ]
  },
  {
   "cell_type": "code",
   "execution_count": 89,
   "metadata": {
    "collapsed": false
   },
   "outputs": [
    {
     "data": {
      "image/png": "[encoded data removed]",
      "text/plain": [
       "<matplotlib.figure.Figure at 0x11b6ad7d0>"
      ]
     },
     "metadata": {},
     "output_type": "display_data"
    }
   ],
   "source": [
    "# RECONSTRUCTION TEST\n",
    "\n",
    "encode_decode = sess.run(y_pred, feed_dict={X:mnist.test.images[:examples_to_show], keep_prob:1.})\n",
    "f, a = plt.subplots(2, 10, figsize=(10, 2))\n",
    "for i in range(examples_to_show):\n",
    "    a[0][i].imshow(np.reshape(mnist.test.images[i],(28,28)))\n",
    "    a[1][i].imshow(np.reshape(encode_decode[i],(28,28)))\n",
    "    \n",
    "sess.close()"
   ]
  },
  {
   "cell_type": "code",
   "execution_count": 112,
   "metadata": {
    "collapsed": false
   },
   "outputs": [
    {
     "name": "stdout",
     "output_type": "stream",
     "text": [
      "CPU times: user 7 s, sys: 232 ms, total: 7.23 s\n",
      "Wall time: 6.49 s\n"
     ]
    }
   ],
   "source": [
    "%%time\n",
    "\n",
    "# K-MEANS CLUSTERING\n",
    "\n",
    "kms = KMeans(n_clusters=10, random_state=7)\n",
    "kms.fit(Z)"
   ]
  },
  {
   "cell_type": "code",
   "execution_count": 150,
   "metadata": {
    "collapsed": true
   },
   "outputs": [],
   "source": [
    "# EXAMINE RESULTS FROM K-MEANS INITIALIZATION\n",
    "\n",
    "# cls2vec = defaultdict(list)\n",
    "# for i in range(len(kms.labels_)):\n",
    "#     cls2vec[kms.labels_[i]].append(i)\n",
    "    \n",
    "# for i in range(10):\n",
    "#     sample_ids = [random.choice(cls2vec[i]) for _ in range(10)]\n",
    "#     print [np.argmax(mnist.train.labels[i]) for i in sample_ids]\n",
    "#     print"
   ]
  },
  {
   "cell_type": "code",
   "execution_count": 196,
   "metadata": {
    "collapsed": false
   },
   "outputs": [],
   "source": [
    "# CLUSTERING FUNCTIONS\n",
    "\n",
    "MU = kms.cluster_centers_\n",
    "Q, P = np.random.rand(Z.shape[0],Z.shape[1]), np.random.rand(Z.shape[0],Z.shape[1])\n",
    "\n",
    "def q(i, j):\n",
    "    num = math.pow(1 + math.pow(np.linalg.norm(Z[i]-MU[j]), 2), -1)\n",
    "    denom = sum(math.pow(1 + math.pow(np.linalg.norm(Z[i]-MU[j_prime]), 2), -1)\n",
    "                for j_prime in range(len(MU)))\n",
    "    return num/denom\n",
    "\n",
    "def f(j):\n",
    "    return Q[:,j].sum()\n",
    "\n",
    "def p(i, j):\n",
    "    num = math.pow(Q[i,j], 2) / f(j)\n",
    "    denom = sum(math.pow(Q[i,j_prime], 2) / f(j_prime) \n",
    "                for j_prime in range(len(MU)))\n",
    "    return num/denom\n",
    "\n",
    "def z_grad(i):\n",
    "    return 2 * sum(math.pow(math.pow(np.linalg.norm(Z[i]-MU[j]), 2), -1) * \\\n",
    "                   ((P[i,j] - Q[i,j]) * np.dot(Z[i], MU[j]))\n",
    "                   for j in range(len(MU)))\n",
    "\n",
    "def mu_grad(j):\n",
    "    return -2 * sum(math.pow(math.pow(np.linalg.norm(Z[i]-MU[j]), 2), -1) * \\\n",
    "                    ((P[i,j] - Q[i,j]) * np.dot(Z[i], MU[j]))\n",
    "                    for j in range(len(Z)))"
   ]
  },
  {
   "cell_type": "code",
   "execution_count": 198,
   "metadata": {
    "collapsed": true
   },
   "outputs": [],
   "source": [
    "# HALF-AUTOENCODER GRAPH\n",
    "\n",
    "pred_Z = tf.placeholder('float', [None, n_hidden_2])\n",
    "encoder_cost = tf.reduce_mean(tf.pow(pred_Z - encoded_X, 2))\n",
    "encoder_optimizer = tf.train.RMSPropOptimizer(learning_rate).minimize(encoder_cost)\n",
    "\n",
    "def train_half_autoencoder():\n",
    "\n",
    "    with tf.Session() as sess:\n",
    "        \n",
    "        sess.run(tf.global_variables_initializer())\n",
    "        total_batch = int(mnist.train.num_examples/batch_size)\n",
    "        for epoch in range(training_epochs):\n",
    "            for i in range(total_batch):\n",
    "                batch_xs, batch_ys = mnist.train.next_batch(batch_size)\n",
    "                _, c = sess.run([encoder_optimizer, encoder_cost], \n",
    "                                feed_dict={X:batch_xs, pred_Z:Z, keep_prob:.5})\n",
    "    \n",
    "        return sess.run(encoded_X, feed_dict={X:mnist.train.images, keep_prob:1.})\n",
    "    "
   ]
  },
  {
   "cell_type": "code",
   "execution_count": null,
   "metadata": {
    "collapsed": false
   },
   "outputs": [
    {
     "name": "stdout",
     "output_type": "stream",
     "text": [
      "... at epoch  1\n",
      "... clustering\n"
     ]
    }
   ],
   "source": [
    "%%time\n",
    "\n",
    "n_epochs = 10\n",
    "\n",
    "for e in range(n_epochs):\n",
    "    \n",
    "    print '... at epoch ', e+1\n",
    "    \n",
    "    print '... clustering'\n",
    "    for i in range(len(Z)):\n",
    "        for j in range(len(MU)):\n",
    "            Q[i,j] = q(i,j)\n",
    "            P[i,j] = p(i,j)\n",
    "    \n",
    "    for i in range(len(Z)):\n",
    "        for j in range(len(MU)):\n",
    "            Z[i] -= z_grad(i)\n",
    "            MU[j] -= mu_grad(j)\n",
    "    \n",
    "    print '... calibrate half-autoencoder'\n",
    "    Z = train_half_autoencoder()"
   ]
  },
  {
   "cell_type": "code",
   "execution_count": null,
   "metadata": {
    "collapsed": true
   },
   "outputs": [],
   "source": []
  },
  {
   "cell_type": "code",
   "execution_count": null,
   "metadata": {
    "collapsed": true
   },
   "outputs": [],
   "source": []
  },
  {
   "cell_type": "code",
   "execution_count": null,
   "metadata": {
    "collapsed": true
   },
   "outputs": [],
   "source": []
  },
  {
   "cell_type": "code",
   "execution_count": null,
   "metadata": {
    "collapsed": true
   },
   "outputs": [],
   "source": []
  },
  {
   "cell_type": "code",
   "execution_count": null,
   "metadata": {
    "collapsed": true
   },
   "outputs": [],
   "source": []
  },
  {
   "cell_type": "code",
   "execution_count": null,
   "metadata": {
    "collapsed": true
   },
   "outputs": [],
   "source": []
  },
  {
   "cell_type": "code",
   "execution_count": null,
   "metadata": {
    "collapsed": true
   },
   "outputs": [],
   "source": []
  },
  {
   "cell_type": "code",
   "execution_count": null,
   "metadata": {
    "collapsed": true
   },
   "outputs": [],
   "source": []
  },
  {
   "cell_type": "code",
   "execution_count": null,
   "metadata": {
    "collapsed": true
   },
   "outputs": [],
   "source": []
  },
  {
   "cell_type": "code",
   "execution_count": null,
   "metadata": {
    "collapsed": true
   },
   "outputs": [],
   "source": []
  },
  {
   "cell_type": "code",
   "execution_count": null,
   "metadata": {
    "collapsed": true
   },
   "outputs": [],
   "source": []
  },
  {
   "cell_type": "code",
   "execution_count": null,
   "metadata": {
    "collapsed": true
   },
   "outputs": [],
   "source": []
  },
  {
   "cell_type": "code",
   "execution_count": null,
   "metadata": {
    "collapsed": true
   },
   "outputs": [],
   "source": []
  },
  {
   "cell_type": "code",
   "execution_count": null,
   "metadata": {
    "collapsed": true
   },
   "outputs": [],
   "source": []
  }
 ],
 "metadata": {
  "kernelspec": {
   "display_name": "Python 2",
   "language": "python",
   "name": "python2"
  },
  "language_info": {
   "codemirror_mode": {
    "name": "ipython",
    "version": 2
   },
   "file_extension": ".py",
   "mimetype": "text/x-python",
   "name": "python",
   "nbconvert_exporter": "python",
   "pygments_lexer": "ipython2",
   "version": "2.7.11"
  }
 },
 "nbformat": 4,
 "nbformat_minor": 0
}
