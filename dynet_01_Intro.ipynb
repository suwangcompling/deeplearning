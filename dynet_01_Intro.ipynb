{
 "cells": [
  {
   "cell_type": "markdown",
   "metadata": {},
   "source": [
    "# DyNet Intro\n",
    "\n",
    "* **I. API**\n",
    "* **II. E.G.1 -- XOR**\n",
    "* **III. E.G.2 -- RNN**"
   ]
  },
  {
   "cell_type": "markdown",
   "metadata": {},
   "source": [
    "## I. API"
   ]
  },
  {
   "cell_type": "code",
   "execution_count": 1,
   "metadata": {
    "collapsed": true
   },
   "outputs": [],
   "source": [
    "from dynet import *\n",
    "\n",
    "import numpy as np\n",
    "\n",
    "from __future__ import division"
   ]
  },
  {
   "cell_type": "code",
   "execution_count": 47,
   "metadata": {},
   "outputs": [
    {
     "name": "stdout",
     "output_type": "stream",
     "text": [
      "2.0\n",
      "[1.0, 2.0, 3.0]\n",
      "[[ 1.  2.  3.]\n",
      " [ 4.  5.  6.]]\n",
      "[[ 1.  2.  3.]\n",
      " [ 4.  5.  6.]]\n"
     ]
    }
   ],
   "source": [
    "# Reset comp-graph\n",
    "#   always a good practice before starting a session\n",
    "renew_cg()\n",
    "\n",
    "# Create data structures\n",
    "x = scalarInput(2)\n",
    "v = inputVector([1,2,3]) \n",
    "z = inputTensor(np.array([[1,2,3],[4,5,6]]))\n",
    "print x.value()\n",
    "print v.vec_value()\n",
    "print z.value()\n",
    "print z.npvalue() # eval as np.array"
   ]
  },
  {
   "cell_type": "code",
   "execution_count": 3,
   "metadata": {},
   "outputs": [
    {
     "name": "stdout",
     "output_type": "stream",
     "text": [
      "row 5: [0.12060943990945816, 0.6338164210319519, 0.41185712814331055]\n",
      "row 5 (non-trainable): [0.12060943990945816, 0.6338164210319519, 0.41185712814331055]\n",
      "Reset to row 9 ...\n",
      "row 5: [-0.5574085116386414, 0.38705575466156006, 0.7486212253570557]\n",
      "row 5 (non-trainable): [-0.5574085116386414, 0.38705575466156006, 0.7486212253570557]\n"
     ]
    }
   ],
   "source": [
    "# Filling params and embedding lookup\n",
    "\n",
    "renew_cg()\n",
    "\n",
    "m = ParameterCollection()\n",
    "pW = m.add_parameters((8,8))\n",
    "pb = m.add_parameters(8)\n",
    "\n",
    "W = parameter(pW)\n",
    "b = parameter(pb)\n",
    "\n",
    "vocab_size = 10\n",
    "emb_size = 3\n",
    "lp = m.add_lookup_parameters((vocab_size, emb_size))\n",
    "\n",
    "e5 = lookup(lp, 5) # get embedding at row 5\n",
    "e5c = lookup(lp, 5, update=False) # set as non-trainable\n",
    "print 'row 5:', e5.value()\n",
    "print 'row 5 (non-trainable):', e5c.value()\n",
    "e5.set(9) # e5 expr. now has row 9\n",
    "e5c.set(9) # same\n",
    "print 'Reset to row 9 ...'\n",
    "print 'row 5:', e5.value()\n",
    "print 'row 5 (non-trainable):', e5c.value()"
   ]
  },
  {
   "cell_type": "code",
   "execution_count": 57,
   "metadata": {},
   "outputs": [
    {
     "name": "stdout",
     "output_type": "stream",
     "text": [
      "Elementary ops\n",
      "5.0\n",
      "26.0\n",
      "[3.0, 8.0, 15.0]\n",
      "[0.3333333432674408, 0.5, 0.6000000238418579]\n",
      "6.0\n",
      "\n",
      "Reshape & Transpose\n",
      "[[ 1.  3.  5.]\n",
      " [ 2.  4.  6.]]\n",
      "[[ 1.  2.]\n",
      " [ 3.  4.]\n",
      " [ 5.  6.]]\n",
      "\n",
      "Activations\n",
      "[0.7615941762924194, 0.9640275835990906, 0.9950547218322754]\n",
      "[2.7182817459106445, 7.389056205749512, 20.08553695678711]\n",
      "[0.0, 0.6931471824645996, 1.0986123085021973]\n",
      "[0.7310585975646973, 0.8807970285415649, 0.9525741338729858]\n",
      "[1.0, 2.0, 3.0]\n",
      "[0.5, 0.6666666865348816, 0.75]\n",
      "[0.09003058075904846, 0.24472849071025848, 0.665241003036499]\n",
      "\n",
      "Restricted ops to ids\n",
      "[-2.1269280910491943, -inf, -0.12692809104919434]\n",
      "\n",
      "Select vals by ids\n",
      "3.0\n",
      "3.0\n",
      "[3.0, 4.0, 5.0]\n",
      "[3.0, 4.0, 5.0]\n",
      "6.45862960815\n",
      "\n",
      "Regularization\n",
      "[0.9812455773353577, 2.005760669708252, 2.999218702316284]\n",
      "[2.0, 0.0, 6.0]\n",
      "\n",
      "For-all ops\n",
      "[4.0, 6.0, 8.0]\n",
      "[2.0, 3.0, 4.0]\n",
      "[[ 1.  3.]\n",
      " [ 2.  4.]\n",
      " [ 3.  5.]]\n",
      "[1.0, 2.0, 3.0, 3.0, 4.0, 5.0]\n",
      "\n",
      "Loss fns\n",
      "12.0\n",
      "6.0\n",
      "10.7129249573\n",
      "0.2217797786\n",
      "2.0\n",
      "[[ 3.  3.  3.]]\n"
     ]
    }
   ],
   "source": [
    "# Basic operations\n",
    "\n",
    "renew_cg() # CRUCIAL! OTHERWISE DEAD KERNEL\n",
    "\n",
    "a_scalar = scalarInput(2)\n",
    "b_scalar = scalarInput(3)\n",
    "a_vec = inputVector([1,2,3])\n",
    "b_vec = inputVector([3,4,5])\n",
    "\n",
    "print 'Elementary ops'\n",
    "print (a_scalar + b_scalar).value()\n",
    "print dot_product(a_vec, b_vec).value()\n",
    "print cmult(a_vec, b_vec).value() # Hadamard product\n",
    "print cdiv(a_vec, b_vec).value() # Hadamard division (CRUCIAL: __future__.division required)\n",
    "print sum_elems(a_vec).value()\n",
    "# print colwise_add(a_vec, b_vec)  \n",
    "print\n",
    "\n",
    "print 'Reshape & Transpose'\n",
    "c_vec = inputVector([1,2,3,4,5,6])\n",
    "c_mat = reshape(c_vec, (2,3))\n",
    "print c_mat.value()\n",
    "print transpose(c_mat).value()\n",
    "print \n",
    "\n",
    "print 'Activations'\n",
    "print tanh(a_vec).value()\n",
    "print exp(a_vec).value()\n",
    "print log(a_vec).value()\n",
    "print logistic(a_vec).value()\n",
    "print rectify(a_vec).value()\n",
    "print softsign(a_vec).value()\n",
    "print softmax(a_vec).value()\n",
    "print \n",
    "\n",
    "print 'Restricted ops to ids'\n",
    "print log_softmax(a_vec,restrict=[0,2]).value()\n",
    "print \n",
    "\n",
    "print 'Select vals by ids'\n",
    "d_vec = inputVector(range(10))\n",
    "print pick(d_vec, 3).value()\n",
    "print d_vec[3].value()\n",
    "print pickrange(d_vec, 3, 6).value()\n",
    "print d_vec[3:6].value()\n",
    "print pickneglogsoftmax(d_vec, 3).value() #  i.e. (pick(-log(softmax(e1)), k))\n",
    "print \n",
    "\n",
    "print 'Regularization'\n",
    "print noise(a_vec, 0.01).value() # add Gaussian noise with std=0.01\n",
    "print dropout(a_vec, 0.5).value() # dropout with p=0.5, dropped vals=0\n",
    "print \n",
    "\n",
    "print 'For-all ops'\n",
    "print esum([a_vec, b_vec]).value() # Hadamard sum\n",
    "print average([a_vec, b_vec]).value() # Hadamard avg.\n",
    "print concatenate_cols([a_vec, b_vec]).value() # concat vecs as cols\n",
    "print concatenate([a_vec, b_vec]).value() # long-list concat\n",
    "print \n",
    "\n",
    "print 'Loss fns'\n",
    "print squared_distance(a_vec, b_vec).value() # Euclidean dist.\n",
    "print l1_distance(a_vec, b_vec).value() # Manhattan dist.\n",
    "print huber_distance(a_vec, b_vec).value() # less sensitive to outliers like Euclidean\n",
    "print binary_log_loss(logistic(a_scalar), logistic(b_scalar)).value() # b*log(a) + (1-b)*log(1-a)\n",
    "print pairwise_rank_loss(a_scalar, b_scalar, m=1.0).value() \n",
    "print pairwise_rank_loss(transpose(a_vec), transpose(b_vec), m=1.0).value()\n",
    "\n",
    "# For conv net support, better use Tensorflow."
   ]
  },
  {
   "cell_type": "code",
   "execution_count": 34,
   "metadata": {},
   "outputs": [
    {
     "name": "stdout",
     "output_type": "stream",
     "text": [
      "... loss at 500: 24.1510372162\n",
      "... loss at 1000: 24.6248283386\n",
      "... loss at 1500: 23.3079299927\n",
      "... loss at 2000: 25.1814155579\n",
      "... loss at 2500: 23.0396842957\n",
      "... loss at 3000: 20.3630332947\n",
      "... loss at 3500: 23.7845077515\n",
      "... loss at 4000: 23.2671813965\n",
      "... loss at 4500: 22.9774723053\n",
      "... loss at 5000: 23.629901886\n",
      "... loss at 5500: 22.718000412\n"
     ]
    }
   ],
   "source": [
    "# Simple MNIST logistic classifier\n",
    "#   warning: slow, trying to figure out why it's so much slower than TF\n",
    "\n",
    "from dynet import *\n",
    "\n",
    "from tensorflow.examples.tutorials.mnist import input_data\n",
    "mnist = input_data.read_data_sets(\"/tmp/data/\", one_hot=True)\n",
    "print \"Train sizes\", mnist.train.images.shape, mnist.train.labels.shape\n",
    "print \"Test sizes\", mnist.test.images.shape, mnist.test.labels.shape\n",
    "\n",
    "dp = DynetParams()\n",
    "dp.set_autobatch(True)\n",
    "dp.set_mem(2048)\n",
    "\n",
    "renew_cg()\n",
    "\n",
    "m = ParameterCollection()\n",
    "pW = m.add_parameters((10, 784))\n",
    "pb = m.add_parameters(10)\n",
    "\n",
    "trainer = AdamTrainer(m)\n",
    "\n",
    "W = parameter(pW)\n",
    "b = parameter(pb)\n",
    "x = inputVector(np.zeros(784))\n",
    "def calculate_loss(X_i, y_i):\n",
    "    x.set(X_i)\n",
    "    pred = softmax((W*x)+b)\n",
    "    loss = -log(pick(pred, np.argmax(y_i)))\n",
    "    return loss\n",
    "count = 0\n",
    "num_epochs = 1\n",
    "batch_size = 10\n",
    "for _ in xrange(num_epochs):\n",
    "    for _ in range(int(mnist.train.num_examples/batch_size)):\n",
    "        count += 1\n",
    "        X_batch, y_batch = mnist.train.next_batch(batch_size)\n",
    "        losses = []\n",
    "        for X_i,y_i in zip(X_batch,y_batch):\n",
    "            loss = calculate_loss(X_i,y_i)\n",
    "            losses.append(loss)\n",
    "        loss = esum(losses)\n",
    "        if count % 500 == 0:\n",
    "            print '... loss at', str(count)+':', loss.value()\n",
    "        loss.forward()\n",
    "        loss.backward()\n",
    "        trainer.update()"
   ]
  },
  {
   "cell_type": "code",
   "execution_count": 36,
   "metadata": {},
   "outputs": [
    {
     "name": "stdout",
     "output_type": "stream",
     "text": [
      "0.4882\n"
     ]
    }
   ],
   "source": [
    "from __future__ import division\n",
    "results = []\n",
    "for X_i,y_i in zip(mnist.test.images,mnist.test.labels):\n",
    "    x.set(X_i)\n",
    "    pred = np.argmax(softmax((W*x)+b).value())\n",
    "    true = np.argmax(y_i)\n",
    "    results.append(1 if pred==true else 0)\n",
    "print sum(results)/len(results)"
   ]
  },
  {
   "cell_type": "code",
   "execution_count": 69,
   "metadata": {
    "scrolled": true
   },
   "outputs": [
    {
     "name": "stdout",
     "output_type": "stream",
     "text": [
      "Train\n",
      "... loss at 500: 0.339906\n",
      "... loss at 1000: 0.380015\n",
      "... loss at 1500: 0.242546\n",
      "... loss at 2000: 0.298855\n",
      "... loss at 2500: 0.346771\n",
      "... loss at 3000: 0.14689\n",
      "... loss at 3500: 0.346184\n",
      "... loss at 4000: 0.37455\n",
      "... loss at 4500: 0.0738878\n",
      "... loss at 5000: 0.77124\n",
      "... loss at 5500: 0.340216\n",
      "\n",
      "Test\n",
      "Accuracy: 0.9199\n"
     ]
    }
   ],
   "source": [
    "# Simple TF MNIST logistic classifier\n",
    "\n",
    "import tensorflow as tf\n",
    "\n",
    "from tensorflow.examples.tutorials.mnist import input_data\n",
    "mnist = input_data.read_data_sets(\"/tmp/data/\", one_hot=True)\n",
    "print \"Train sizes\", mnist.train.images.shape, mnist.train.labels.shape\n",
    "print \"Test sizes\", mnist.test.images.shape, mnist.test.labels.shape\n",
    "print\n",
    "\n",
    "def reset_graph():\n",
    "    if 'sess' in globals() and sess: sess.close()\n",
    "    tf.reset_default_graph()\n",
    "    \n",
    "import random\n",
    "\n",
    "reset_graph()\n",
    "\n",
    "X_ph = tf.placeholder(tf.float32, shape=[None, 784])\n",
    "y_ph = tf.placeholder(tf.float32, shape=[None, 10])\n",
    "\n",
    "W = tf.Variable(tf.truncated_normal(shape=[784, 10], stddev=0.01))\n",
    "b = tf.Variable(tf.zeros([10]))\n",
    "\n",
    "pred = tf.nn.softmax(tf.matmul(X_ph, W) + b)\n",
    "loss = tf.reduce_mean(-tf.reduce_sum(y_ph*tf.log(pred), reduction_indices=1))\n",
    "\n",
    "trainer = tf.train.AdamOptimizer().minimize(loss)\n",
    "\n",
    "num_epochs = 1\n",
    "batch_size = 10\n",
    "count = 0\n",
    "print \"Train\"\n",
    "with tf.Session() as sess:\n",
    "    sess.run(tf.global_variables_initializer())\n",
    "    for _ in xrange(num_epochs):\n",
    "        for _ in range(int(mnist.train.num_examples/batch_size)):\n",
    "            count += 1\n",
    "            X_batch, y_batch = mnist.train.next_batch(batch_size)\n",
    "            _, loss_ = sess.run([trainer, loss], feed_dict={X_ph:X_batch,y_ph:y_batch})\n",
    "            if count % 500 == 0:\n",
    "                print '... loss at', str(count)+':', loss_\n",
    "    \n",
    "    print \n",
    "    print \"Test\"\n",
    "    correct_pred = tf.equal(tf.argmax(pred, 1), tf.argmax(y_ph, 1))\n",
    "    accuracy = tf.reduce_mean(tf.cast(correct_pred, tf.float32))\n",
    "    print \"Accuracy:\", accuracy.eval({X_ph:mnist.test.images, y_ph:mnist.test.labels})"
   ]
  },
  {
   "cell_type": "markdown",
   "metadata": {},
   "source": [
    "## II. XOR\n",
    "\n",
    "* $\\sigma(V(\\texttt{tanh}(Wx+b)))$\n",
    "* $W\\in\\mathbb{R}^{8\\times2},V\\in\\mathbb{R}^{1\\times8},b\\in\\mathbb{R}^8$"
   ]
  },
  {
   "cell_type": "markdown",
   "metadata": {},
   "source": [
    "### A. STATIC NETWORKS"
   ]
  },
  {
   "cell_type": "code",
   "execution_count": 1,
   "metadata": {
    "collapsed": true
   },
   "outputs": [],
   "source": [
    "from dynet import *"
   ]
  },
  {
   "cell_type": "code",
   "execution_count": 41,
   "metadata": {
    "collapsed": true
   },
   "outputs": [],
   "source": [
    "# Create param collection and add params\n",
    "m = ParameterCollection()\n",
    "pW = m.add_parameters((8,2)) # print pW.shape() to get shape\n",
    "pV = m.add_parameters((1,8))\n",
    "pb = m.add_parameters((8))\n",
    "\n",
    "# Reset comp-graph\n",
    "renew_cg()\n",
    "\n",
    "# Associate params with comp-graph\n",
    "#   type -> cg Expressions\n",
    "\n",
    "W = parameter(pW)\n",
    "V = parameter(pV)\n",
    "b = parameter(pb)"
   ]
  },
  {
   "cell_type": "code",
   "execution_count": 42,
   "metadata": {},
   "outputs": [
    {
     "data": {
      "text/plain": [
       "[-0.1485757678747177,\n",
       " 0.08643510937690735,\n",
       " -0.21179868280887604,\n",
       " 0.3174358010292053,\n",
       " 0.008616679348051548,\n",
       " -0.8477156162261963,\n",
       " 0.12413163483142853,\n",
       " 0.7179639339447021]"
      ]
     },
     "execution_count": 42,
     "metadata": {},
     "output_type": "execute_result"
    }
   ],
   "source": [
    "b.value()"
   ]
  },
  {
   "cell_type": "code",
   "execution_count": 43,
   "metadata": {},
   "outputs": [
    {
     "name": "stdout",
     "output_type": "stream",
     "text": [
      "0.371465533972\n",
      "0.361458718777\n",
      "1.19289886951\n"
     ]
    }
   ],
   "source": [
    "# Build main comp-graph\n",
    "x = vecInput(2) # alternatively, inputVector([...])\n",
    "output = logistic(V*(tanh((W*x)+b)))\n",
    "y = scalarInput(0) # gold\n",
    "loss = binary_log_loss(output, y)\n",
    "\n",
    "# E.G. compute output on randomly set values\n",
    "x.set([0,0])\n",
    "print output.value()\n",
    "\n",
    "# E.G. compute loss on randomly set values\n",
    "x.set([1,0])\n",
    "y.set(0) # set the wrong answer\n",
    "print loss.value() # expect more loss when trained\n",
    "y.set(1) # set the correct answer\n",
    "print loss.value() # expect less loss when trained"
   ]
  },
  {
   "cell_type": "code",
   "execution_count": 44,
   "metadata": {},
   "outputs": [
    {
     "name": "stdout",
     "output_type": "stream",
     "text": [
      "the loss before step is: 1.19289886951\n",
      "the loss after step is: 1.027146101\n"
     ]
    }
   ],
   "source": [
    "# Add trainer\n",
    "trainer = SimpleSGDTrainer(m)\n",
    "\n",
    "# E.G. test trainer node\n",
    "#   the loss before training should be higher\n",
    "x.set([1,0])\n",
    "y.set(1)\n",
    "loss_value = loss.value()\n",
    "print \"the loss before step is:\", loss_value\n",
    "loss.backward() # compute grads\n",
    "trainer.update() # train\n",
    "loss_value = loss.value(recalculate=True)\n",
    "print \"the loss after step is:\", loss_value"
   ]
  },
  {
   "cell_type": "code",
   "execution_count": 45,
   "metadata": {},
   "outputs": [
    {
     "name": "stdout",
     "output_type": "stream",
     "text": [
      "(0, 0) 0\n",
      "(0, 1) 1\n",
      "(1, 0) 1\n",
      "(1, 1) 0\n",
      "\n",
      "Test results\n",
      "0,1 0.579762995243\n",
      "1,0 0.358027279377\n",
      "0,0 0.405996859074\n",
      "1,1 0.474987447262\n"
     ]
    }
   ],
   "source": [
    "# Create training data\n",
    "\n",
    "from itertools import product\n",
    "\n",
    "vals = [0,1]\n",
    "def create_xor_instances(num_rounds=2000):\n",
    "    questions = []\n",
    "    answers = []\n",
    "    for _ in xrange(num_rounds):\n",
    "        for x1,x2 in product(vals, vals):\n",
    "            answer = 0 if x1==x2 else 1\n",
    "            questions.append((x1,x2))\n",
    "            answers.append(answer)\n",
    "    return questions, answers\n",
    "\n",
    "X_train, y_train = create_xor_instances()\n",
    "for i in range(4):\n",
    "    print X_train[i], y_train[i]\n",
    "print\n",
    "    \n",
    "# Model tester\n",
    "\n",
    "def test_xor():\n",
    "    print \"Test results\"\n",
    "    x.set([0,1])\n",
    "    print \"0,1\", output.value()\n",
    "    x.set([1,0])\n",
    "    print \"1,0\", output.value()\n",
    "    x.set([0,0])\n",
    "    print \"0,0\", output.value()\n",
    "    x.set([1,1])\n",
    "    print \"1,1\", output.value()\n",
    "    \n",
    "test_xor()"
   ]
  },
  {
   "cell_type": "code",
   "execution_count": 37,
   "metadata": {},
   "outputs": [
    {
     "name": "stdout",
     "output_type": "stream",
     "text": [
      "average loss is: 0.720788167119\n",
      "average loss is: 0.697766235471\n",
      "average loss is: 0.655933563411\n",
      "average loss is: 0.593452329263\n",
      "average loss is: 0.523161799997\n",
      "average loss is: 0.459621861863\n",
      "average loss is: 0.407008892074\n",
      "average loss is: 0.364187619663\n",
      "average loss is: 0.32912860419\n",
      "average loss is: 0.300072345642\n",
      "average loss is: 0.275672255118\n",
      "average loss is: 0.254925653837\n",
      "average loss is: 0.237085357768\n",
      "average loss is: 0.22158883813\n",
      "average loss is: 0.208006923498\n",
      "average loss is: 0.196007620273\n",
      "average loss is: 0.185330641564\n",
      "average loss is: 0.175769331319\n",
      "average loss is: 0.167157687647\n",
      "average loss is: 0.15936092629\n",
      "average loss is: 0.152268522817\n",
      "average loss is: 0.145789020409\n",
      "average loss is: 0.139846107338\n",
      "average loss is: 0.134375619021\n",
      "average loss is: 0.129323218989\n",
      "average loss is: 0.124642592538\n",
      "average loss is: 0.120294022751\n",
      "average loss is: 0.116243255748\n",
      "average loss is: 0.112460595337\n",
      "average loss is: 0.10892016964\n",
      "average loss is: 0.105599334471\n",
      "average loss is: 0.102478186194\n",
      "average loss is: 0.0995391594631\n",
      "average loss is: 0.0967666926427\n",
      "average loss is: 0.0941469509584\n",
      "average loss is: 0.0916675926125\n",
      "average loss is: 0.0893175737909\n",
      "average loss is: 0.0870869814389\n",
      "average loss is: 0.0849668918036\n",
      "average loss is: 0.0829492505483\n",
      "average loss is: 0.0810267694164\n",
      "average loss is: 0.0791928366415\n",
      "average loss is: 0.0774414405264\n",
      "average loss is: 0.0757671024835\n",
      "average loss is: 0.0741648195894\n",
      "average loss is: 0.0726300142293\n",
      "average loss is: 0.0711584887467\n",
      "average loss is: 0.0697463877601\n",
      "average loss is: 0.0683901633766\n",
      "average loss is: 0.0670865456511\n",
      "average loss is: 0.0658325152349\n",
      "average loss is: 0.064625280211\n",
      "average loss is: 0.0634622549986\n",
      "average loss is: 0.0623410414672\n",
      "average loss is: 0.0612594121495\n",
      "average loss is: 0.060215295606\n",
      "average loss is: 0.0592067626804\n",
      "average loss is: 0.0582320149104\n",
      "average loss is: 0.0572893729646\n",
      "average loss is: 0.0563772676531\n",
      "average loss is: 0.0554942304588\n",
      "average loss is: 0.0546388857546\n",
      "average loss is: 0.0538099437436\n",
      "average loss is: 0.053006193617\n",
      "average loss is: 0.052226497845\n",
      "average loss is: 0.0514697862885\n",
      "average loss is: 0.0507350517656\n",
      "average loss is: 0.0500213450596\n",
      "average loss is: 0.0493277712815\n",
      "average loss is: 0.0486534853264\n",
      "average loss is: 0.0479976893484\n",
      "average loss is: 0.0473596287437\n",
      "average loss is: 0.0467385895102\n",
      "average loss is: 0.0461338956936\n",
      "average loss is: 0.0455449066872\n",
      "average loss is: 0.044971015151\n",
      "average loss is: 0.044411644575\n",
      "average loss is: 0.0438662476243\n",
      "average loss is: 0.043334304178\n",
      "average loss is: 0.0428153197253\n",
      "\n",
      "Test results\n",
      "0,1 0.998068153858\n",
      "1,0 0.998003423214\n",
      "0,0 0.00134725833777\n",
      "1,1 0.00191594380885\n"
     ]
    }
   ],
   "source": [
    "# Train model\n",
    "\n",
    "from __future__ import division\n",
    "\n",
    "total_loss = 0\n",
    "seen_instances = 0\n",
    "avg_losses = []\n",
    "for X_i, y_i in zip(X_train,y_train):\n",
    "    x.set(X_i)\n",
    "    y.set(y_i)\n",
    "    seen_instances += 1\n",
    "    total_loss += loss.value()\n",
    "    loss.backward()\n",
    "    trainer.update()\n",
    "    if (seen_instances > 1) and seen_instances % 100 == 0:\n",
    "        avg_loss = total_loss / seen_instances\n",
    "        avg_losses.append(avg_loss)\n",
    "        print \"average loss is:\", avg_loss\n",
    "        \n",
    "print\n",
    "test_xor()"
   ]
  },
  {
   "cell_type": "code",
   "execution_count": 40,
   "metadata": {},
   "outputs": [
    {
     "data": {
      "image/png": "[encoded data removed]",
      "text/plain": [
       "<matplotlib.figure.Figure at 0x7f51021c21d0>"
      ]
     },
     "metadata": {},
     "output_type": "display_data"
    }
   ],
   "source": [
    "import matplotlib.pyplot as plt\n",
    "%matplotlib inline\n",
    "\n",
    "plt.plot(avg_losses)\n",
    "plt.title(\"Static XOR\")\n",
    "plt.xlabel(\"#100iters\")\n",
    "plt.ylabel(\"Loss\")\n",
    "plt.show()"
   ]
  },
  {
   "cell_type": "markdown",
   "metadata": {},
   "source": [
    "### B. DYNAMIC NETWORKS"
   ]
  },
  {
   "cell_type": "code",
   "execution_count": 112,
   "metadata": {
    "collapsed": true
   },
   "outputs": [],
   "source": [
    "from dynet import *\n",
    "from itertools import product\n",
    "import matplotlib.pyplot as plt\n",
    "%matplotlib inline"
   ]
  },
  {
   "cell_type": "code",
   "execution_count": 110,
   "metadata": {},
   "outputs": [
    {
     "name": "stdout",
     "output_type": "stream",
     "text": [
      "average loss is: 0.752134788036\n",
      "average loss is: 0.737397335172\n",
      "average loss is: 0.725410375396\n",
      "average loss is: 0.704652427137\n",
      "average loss is: 0.660070686638\n",
      "average loss is: 0.597163186744\n",
      "average loss is: 0.535364472408\n",
      "average loss is: 0.481906592813\n",
      "average loss is: 0.436995918875\n",
      "average loss is: 0.39928848009\n",
      "average loss is: 0.367386082101\n",
      "average loss is: 0.340131206056\n",
      "average loss is: 0.316617591948\n",
      "average loss is: 0.296144262494\n",
      "average loss is: 0.278167582033\n",
      "average loss is: 0.262262479412\n",
      "average loss is: 0.248093210172\n",
      "average loss is: 0.235391770889\n",
      "average loss is: 0.223942008297\n",
      "average loss is: 0.213567864006\n",
      "average loss is: 0.204124606276\n",
      "average loss is: 0.195492229276\n",
      "average loss is: 0.187570429088\n",
      "average loss is: 0.180274746849\n",
      "average loss is: 0.173533572807\n",
      "average loss is: 0.167285804526\n",
      "average loss is: 0.161478992104\n",
      "average loss is: 0.156067864394\n",
      "average loss is: 0.151013143858\n",
      "average loss is: 0.14628058757\n",
      "average loss is: 0.141840206198\n",
      "average loss is: 0.137665624854\n",
      "average loss is: 0.133733554861\n",
      "average loss is: 0.130023355025\n",
      "average loss is: 0.126516665449\n",
      "average loss is: 0.123197101285\n",
      "average loss is: 0.120049994342\n",
      "average loss is: 0.11706217316\n",
      "average loss is: 0.11422177733\n",
      "average loss is: 0.111518098335\n",
      "average loss is: 0.108941442218\n",
      "average loss is: 0.106483012873\n",
      "average loss is: 0.104134809858\n",
      "average loss is: 0.101889540394\n",
      "average loss is: 0.0997405429975\n",
      "average loss is: 0.0976817202511\n",
      "average loss is: 0.0957074803634\n",
      "average loss is: 0.0938126858188\n",
      "average loss is: 0.0919926080374\n",
      "average loss is: 0.0902428875116\n",
      "average loss is: 0.0885594982463\n",
      "average loss is: 0.086938716454\n",
      "average loss is: 0.0853770929526\n",
      "average loss is: 0.083871428099\n",
      "average loss is: 0.0824187494668\n",
      "average loss is: 0.0810162921686\n",
      "average loss is: 0.079661480945\n",
      "average loss is: 0.0783519141871\n",
      "average loss is: 0.077085349357\n",
      "average loss is: 0.0758596902794\n",
      "average loss is: 0.0746729752366\n",
      "average loss is: 0.0735233663049\n",
      "average loss is: 0.0724091397644\n",
      "average loss is: 0.0713286774972\n",
      "average loss is: 0.0702804587453\n",
      "average loss is: 0.0692630528647\n",
      "average loss is: 0.0682751131778\n",
      "average loss is: 0.0673153704203\n",
      "average loss is: 0.066382627501\n",
      "average loss is: 0.0654757541196\n",
      "average loss is: 0.0645936826901\n",
      "average loss is: 0.0637354035299\n",
      "average loss is: 0.0628999613422\n",
      "average loss is: 0.0620864514848\n",
      "average loss is: 0.0612940165136\n",
      "average loss is: 0.0605218431577\n",
      "average loss is: 0.0597691597113\n",
      "average loss is: 0.0590352333053\n",
      "average loss is: 0.0583193673182\n",
      "average loss is: 0.0576208995532\n",
      "\n",
      "Test results\n",
      "0,1 0.997336804867\n",
      "1,0 0.997236609459\n",
      "0,0 0.000881387735717\n",
      "1,1 0.00335242063738\n"
     ]
    }
   ],
   "source": [
    "# Create data\n",
    "\n",
    "vals = [0,1]\n",
    "def create_xor_instances(num_rounds=2000):\n",
    "    questions = []\n",
    "    answers = []\n",
    "    for _ in xrange(num_rounds):\n",
    "        for x1,x2 in product(vals, vals):\n",
    "            answer = 0 if x1==x2 else 1\n",
    "            questions.append((x1,x2))\n",
    "            answers.append(answer)\n",
    "    return questions, answers\n",
    "\n",
    "X_train, y_train = create_xor_instances()\n",
    "\n",
    "# Create network dynamically\n",
    "\n",
    "def create_xor_network(pW, pV, pb, X_train, y_train):\n",
    "    renew_cg()\n",
    "    W = parameter(pW) \n",
    "    V = parameter(pV)\n",
    "    b = parameter(pb)\n",
    "    x = vecInput(len(X_train))\n",
    "    x.set(X_train)\n",
    "    y = scalarInput(y_train)\n",
    "    output = logistic(V*(tanh((W*x)+b)))\n",
    "    loss =  binary_log_loss(output, y)\n",
    "    return loss\n",
    "\n",
    "# Set params\n",
    "\n",
    "m2 = ParameterCollection()\n",
    "pW = m2.add_parameters((8,2))\n",
    "pV = m2.add_parameters((1,8))\n",
    "pb = m2.add_parameters((8))\n",
    "trainer = SimpleSGDTrainer(m2)\n",
    "\n",
    "# Train\n",
    "\n",
    "seen_instances = 0\n",
    "total_loss = 0\n",
    "avg_losses = []\n",
    "for X_i,y_i in zip(X_train,y_train):\n",
    "    loss = create_xor_network(pW, pV, pb, X_i, y_i)\n",
    "    seen_instances += 1\n",
    "    total_loss += loss.value()\n",
    "    loss.backward()\n",
    "    trainer.update()\n",
    "    if (seen_instances > 1 and seen_instances % 100 == 0):\n",
    "        avg_loss = total_loss / seen_instances\n",
    "        avg_losses.append(avg_loss)\n",
    "        print \"average loss is:\", avg_loss\n",
    "\n",
    "# Test       \n",
    "\n",
    "W = parameter(pW) \n",
    "V = parameter(pV)\n",
    "b = parameter(pb)\n",
    "x = vecInput(2)\n",
    "output = logistic(V*(tanh((W*x)+b)))\n",
    "print\n",
    "print \"Test results\"\n",
    "x.set([0,1])\n",
    "print \"0,1\", output.value()\n",
    "x.set([1,0])\n",
    "print \"1,0\", output.value()\n",
    "x.set([0,0])\n",
    "print \"0,0\", output.value()\n",
    "x.set([1,1])\n",
    "print \"1,1\", output.value()"
   ]
  },
  {
   "cell_type": "code",
   "execution_count": 113,
   "metadata": {},
   "outputs": [
    {
     "data": {
      "image/png": "[encoded data removed]",
      "text/plain": [
       "<matplotlib.figure.Figure at 0x7f239fc80ad0>"
      ]
     },
     "metadata": {},
     "output_type": "display_data"
    }
   ],
   "source": [
    "plt.plot(avg_losses)\n",
    "plt.title(\"Dynamic XOR\")\n",
    "plt.xlabel(\"#100iters\")\n",
    "plt.ylabel(\"Loss\")\n",
    "plt.show()"
   ]
  },
  {
   "cell_type": "code",
   "execution_count": null,
   "metadata": {
    "collapsed": true
   },
   "outputs": [],
   "source": []
  },
  {
   "cell_type": "code",
   "execution_count": null,
   "metadata": {
    "collapsed": true
   },
   "outputs": [],
   "source": []
  }
 ],
 "metadata": {
  "kernelspec": {
   "display_name": "Python 2",
   "language": "python",
   "name": "python2"
  },
  "language_info": {
   "codemirror_mode": {
    "name": "ipython",
    "version": 2
   },
   "file_extension": ".py",
   "mimetype": "text/x-python",
   "name": "python",
   "nbconvert_exporter": "python",
   "pygments_lexer": "ipython2",
   "version": "2.7.12"
  }
 },
 "nbformat": 4,
 "nbformat_minor": 2
}
