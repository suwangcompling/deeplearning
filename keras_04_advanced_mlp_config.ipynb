{
 "cells": [
  {
   "cell_type": "markdown",
   "metadata": {
    "collapsed": true
   },
   "source": [
    "# SERIALIZATION"
   ]
  },
  {
   "cell_type": "code",
   "execution_count": 8,
   "metadata": {
    "collapsed": true
   },
   "outputs": [],
   "source": [
    "# FILE FORMATS\n",
    "#  - HDF5, Hierarchical Data Format (for weights).\n",
    "#  - JSON (for structure).\n",
    "#  - YAML (for structure).\n",
    "model_folder = \"/Users/jacobsw/Desktop/IMPLEMENTATION_CAMP/CODE/OJO/DEEP_LEARNING/MODELS/\""
   ]
  },
  {
   "cell_type": "markdown",
   "metadata": {},
   "source": [
    "### DEMO: JSON + HDF5"
   ]
  },
  {
   "cell_type": "code",
   "execution_count": 7,
   "metadata": {
    "collapsed": false
   },
   "outputs": [
    {
     "name": "stdout",
     "output_type": "stream",
     "text": [
      "acc: 78.91%\n",
      "CPU times: user 5.58 s, sys: 23.1 ms, total: 5.6 s\n",
      "Wall time: 5.61 s\n"
     ]
    }
   ],
   "source": [
    "%%time\n",
    "# MODEL BUILDING\n",
    "import numpy as np\n",
    "import pandas as pd\n",
    "from keras.models import Sequential, model_from_json\n",
    "from keras.layers import Dense\n",
    "path = \"/Users/jacobsw/Desktop/IMPLEMENTATION_CAMP/CODE/OJO/DEEP_LEARNING/DATA/uci/pima-indians-diabetes/pima-indians-diabetes.csv\"\n",
    "seed = 7\n",
    "np.random.seed(seed)\n",
    "dataset = np.loadtxt(path, delimiter=\",\")\n",
    "X, Y = dataset[:,0:8], dataset[:,8]\n",
    "model = Sequential()\n",
    "model.add(Dense(12, input_dim=8, init='uniform', activation='relu'))\n",
    "model.add(Dense(8, init='uniform', activation='relu'))\n",
    "model.add(Dense(1, init='uniform', activation='sigmoid'))\n",
    "model.compile(loss='binary_crossentropy', optimizer='adam', metrics=['accuracy'])\n",
    "model.fit(X, Y, nb_epoch=150, batch_size=10, verbose=0)\n",
    "scores = model.evaluate(X, Y, verbose=0)\n",
    "print \"%s: %.2f%%\" % (model.metrics_names[1], scores[1]*100)"
   ]
  },
  {
   "cell_type": "code",
   "execution_count": 9,
   "metadata": {
    "collapsed": false
   },
   "outputs": [
    {
     "name": "stdout",
     "output_type": "stream",
     "text": [
      "Model saved to disk\n"
     ]
    }
   ],
   "source": [
    "# SAVE MODEL\n",
    "model_json = model.to_json()\n",
    "with open(model_folder+\"pima.json\", \"w\") as json_file:\n",
    "    json_file.write(model_json) # save model in json.\n",
    "model.save_weights(\"model.h5\") # save weights in hdf5.\n",
    "print \"Model saved to disk\""
   ]
  },
  {
   "cell_type": "code",
   "execution_count": 11,
   "metadata": {
    "collapsed": false
   },
   "outputs": [
    {
     "name": "stdout",
     "output_type": "stream",
     "text": [
      "Moded loaded from disk\n"
     ]
    }
   ],
   "source": [
    "# LOAD MODEL\n",
    "json_file = open(model_folder+\"pima.json\", \"r\")\n",
    "loaded_model_json = json_file.read()\n",
    "json_file.close()\n",
    "loaded_model = model_from_json(loaded_model_json) # load model.\n",
    "loaded_model.load_weights(\"model.h5\") # load weights.\n",
    "print \"Moded loaded from disk\""
   ]
  },
  {
   "cell_type": "code",
   "execution_count": 12,
   "metadata": {
    "collapsed": false
   },
   "outputs": [
    {
     "name": "stdout",
     "output_type": "stream",
     "text": [
      "acc: 78.91%\n",
      "CPU times: user 15.4 ms, sys: 4.6 ms, total: 20 ms\n",
      "Wall time: 16.7 ms\n"
     ]
    }
   ],
   "source": [
    "%%time\n",
    "# USE LOADED MODEL \n",
    "#  NB: MUST COMPILE FIRST!!\n",
    "loaded_model.compile(loss='binary_crossentropy', optimizer='adam', metrics=['accuracy'])\n",
    "scores = model.evaluate(X, Y, verbose=0)\n",
    "print \"%s: %.2f%%\" % (model.metrics_names[1], scores[1]*100)"
   ]
  },
  {
   "cell_type": "markdown",
   "metadata": {},
   "source": [
    "### DEMO: JSON + YAML"
   ]
  },
  {
   "cell_type": "code",
   "execution_count": 13,
   "metadata": {
    "collapsed": false
   },
   "outputs": [
    {
     "name": "stdout",
     "output_type": "stream",
     "text": [
      "acc: 78.91%\n",
      "Model saved to disk\n",
      "Moded loaded from disk\n",
      "acc: 78.91%\n",
      "CPU times: user 5.7 s, sys: 42.3 ms, total: 5.74 s\n",
      "Wall time: 5.77 s\n"
     ]
    }
   ],
   "source": [
    "%%time\n",
    "# MODEL BUILDING\n",
    "import numpy as np\n",
    "import pandas as pd\n",
    "from keras.models import Sequential, model_from_yaml\n",
    "from keras.layers import Dense\n",
    "path = \"/Users/jacobsw/Desktop/IMPLEMENTATION_CAMP/CODE/OJO/DEEP_LEARNING/DATA/uci/pima-indians-diabetes/pima-indians-diabetes.csv\"\n",
    "seed = 7\n",
    "np.random.seed(seed)\n",
    "dataset = np.loadtxt(path, delimiter=\",\")\n",
    "X, Y = dataset[:,0:8], dataset[:,8]\n",
    "model = Sequential()\n",
    "model.add(Dense(12, input_dim=8, init='uniform', activation='relu'))\n",
    "model.add(Dense(8, init='uniform', activation='relu'))\n",
    "model.add(Dense(1, init='uniform', activation='sigmoid'))\n",
    "model.compile(loss='binary_crossentropy', optimizer='adam', metrics=['accuracy'])\n",
    "model.fit(X, Y, nb_epoch=150, batch_size=10, verbose=0)\n",
    "scores = model.evaluate(X, Y, verbose=0)\n",
    "print \"%s: %.2f%%\" % (model.metrics_names[1], scores[1]*100)\n",
    "model_yaml = model.to_yaml()\n",
    "with open(model_folder+\"pima.yaml\", \"w\") as yaml_file:\n",
    "    yaml_file.write(model_yaml) # save model in json.\n",
    "model.save_weights(\"model_yaml.h5\") # save weights in hdf5.\n",
    "print \"Model saved to disk\"\n",
    "# LOAD MODEL\n",
    "yaml_file = open(model_folder+\"pima.yaml\", \"r\")\n",
    "loaded_model_yaml = yaml_file.read()\n",
    "yaml_file.close()\n",
    "loaded_model = model_from_yaml(loaded_model_yaml) # load model.\n",
    "loaded_model.load_weights(\"model_yaml.h5\") # load weights.\n",
    "print \"Moded loaded from disk\"\n",
    "# USE LOADED MODEL \n",
    "#  NB: MUST COMPILE FIRST!!\n",
    "loaded_model.compile(loss='binary_crossentropy', optimizer='adam', metrics=['accuracy'])\n",
    "scores = model.evaluate(X, Y, verbose=0)\n",
    "print \"%s: %.2f%%\" % (model.metrics_names[1], scores[1]*100)"
   ]
  },
  {
   "cell_type": "markdown",
   "metadata": {},
   "source": [
    "# CHECKPOINTING"
   ]
  },
  {
   "cell_type": "code",
   "execution_count": 15,
   "metadata": {
    "collapsed": true
   },
   "outputs": [],
   "source": [
    "# PURPOSES\n",
    "#  - checkpoint each improvement during training.\n",
    "#  - checkpoint very best model during training.\n",
    "checkpoint_folder = \"/Users/jacobsw/Desktop/IMPLEMENTATION_CAMP/CODE/OJO/DEEP_LEARNING/CHECKPOINTS/\""
   ]
  },
  {
   "cell_type": "markdown",
   "metadata": {},
   "source": [
    "### A. CHECKPOINTING IMPROVEMENTS\n",
    "* result: a list of improvement.hdf5 files."
   ]
  },
  {
   "cell_type": "code",
   "execution_count": 16,
   "metadata": {
    "collapsed": true
   },
   "outputs": [],
   "source": [
    "# MODEL BUILDING\n",
    "import numpy as np\n",
    "import matplotlib as plt\n",
    "from keras.models import Sequential\n",
    "from keras.layers import Dense\n",
    "from keras.callbacks import ModelCheckpoint\n",
    "path = \"/Users/jacobsw/Desktop/IMPLEMENTATION_CAMP/CODE/OJO/DEEP_LEARNING/DATA/uci/pima-indians-diabetes/pima-indians-diabetes.csv\"\n",
    "checkpoint_file = \"weights-improvement-{epoch:02d}-{val_acc:.2f}.hdf5\"\n",
    "seed = 7\n",
    "np.random.seed(seed)\n",
    "dataset = np.loadtxt(path, delimiter=\",\")\n",
    "X, Y = dataset[:,0:8], dataset[:,8]\n",
    "model = Sequential()\n",
    "model.add(Dense(12, input_dim=8, init='uniform', activation='relu'))\n",
    "model.add(Dense(8, init='uniform', activation='relu'))\n",
    "model.add(Dense(1, init='uniform', activation='sigmoid'))\n",
    "model.compile(loss='binary_crossentropy', optimizer='adam', metrics=['accuracy'])"
   ]
  },
  {
   "cell_type": "code",
   "execution_count": 19,
   "metadata": {
    "collapsed": false
   },
   "outputs": [
    {
     "name": "stdout",
     "output_type": "stream",
     "text": [
      "Epoch 00000: val_acc improved from -inf to 0.76772, saving model to /Users/jacobsw/Desktop/IMPLEMENTATION_CAMP/CODE/OJO/DEEP_LEARNING/CHECKPOINTS/weights-improvement-00-0.77.hdf5\n",
      "Epoch 00001: val_acc improved from 0.76772 to 0.77165, saving model to /Users/jacobsw/Desktop/IMPLEMENTATION_CAMP/CODE/OJO/DEEP_LEARNING/CHECKPOINTS/weights-improvement-01-0.77.hdf5\n",
      "Epoch 00002: val_acc did not improve\n",
      "Epoch 00003: val_acc did not improve\n",
      "Epoch 00004: val_acc did not improve\n",
      "Epoch 00005: val_acc improved from 0.77165 to 0.77559, saving model to /Users/jacobsw/Desktop/IMPLEMENTATION_CAMP/CODE/OJO/DEEP_LEARNING/CHECKPOINTS/weights-improvement-05-0.78.hdf5\n",
      "Epoch 00006: val_acc did not improve\n",
      "Epoch 00007: val_acc did not improve\n",
      "Epoch 00008: val_acc did not improve\n",
      "Epoch 00009: val_acc did not improve\n",
      "Epoch 00010: val_acc improved from 0.77559 to 0.77953, saving model to /Users/jacobsw/Desktop/IMPLEMENTATION_CAMP/CODE/OJO/DEEP_LEARNING/CHECKPOINTS/weights-improvement-10-0.78.hdf5\n",
      "Epoch 00011: val_acc did not improve\n",
      "Epoch 00012: val_acc did not improve\n",
      "Epoch 00013: val_acc did not improve\n",
      "Epoch 00014: val_acc did not improve\n",
      "Epoch 00015: val_acc did not improve\n",
      "Epoch 00016: val_acc did not improve\n",
      "Epoch 00017: val_acc did not improve\n",
      "Epoch 00018: val_acc did not improve\n",
      "Epoch 00019: val_acc did not improve\n",
      "Epoch 00020: val_acc did not improve\n",
      "Epoch 00021: val_acc did not improve\n",
      "Epoch 00022: val_acc did not improve\n",
      "Epoch 00023: val_acc did not improve\n",
      "Epoch 00024: val_acc improved from 0.77953 to 0.77953, saving model to /Users/jacobsw/Desktop/IMPLEMENTATION_CAMP/CODE/OJO/DEEP_LEARNING/CHECKPOINTS/weights-improvement-24-0.78.hdf5\n",
      "Epoch 00025: val_acc did not improve\n",
      "Epoch 00026: val_acc did not improve\n",
      "Epoch 00027: val_acc did not improve\n",
      "Epoch 00028: val_acc did not improve\n",
      "Epoch 00029: val_acc did not improve\n",
      "Epoch 00030: val_acc did not improve\n",
      "Epoch 00031: val_acc did not improve\n",
      "Epoch 00032: val_acc did not improve\n",
      "Epoch 00033: val_acc did not improve\n",
      "Epoch 00034: val_acc did not improve\n",
      "Epoch 00035: val_acc did not improve\n",
      "Epoch 00036: val_acc did not improve\n",
      "Epoch 00037: val_acc improved from 0.77953 to 0.78346, saving model to /Users/jacobsw/Desktop/IMPLEMENTATION_CAMP/CODE/OJO/DEEP_LEARNING/CHECKPOINTS/weights-improvement-37-0.78.hdf5\n",
      "Epoch 00038: val_acc did not improve\n",
      "Epoch 00039: val_acc did not improve\n",
      "Epoch 00040: val_acc did not improve\n",
      "Epoch 00041: val_acc did not improve\n",
      "Epoch 00042: val_acc did not improve\n",
      "Epoch 00043: val_acc did not improve\n",
      "Epoch 00044: val_acc did not improve\n",
      "Epoch 00045: val_acc did not improve\n",
      "Epoch 00046: val_acc did not improve\n",
      "Epoch 00047: val_acc did not improve\n",
      "Epoch 00048: val_acc did not improve\n",
      "Epoch 00049: val_acc did not improve\n",
      "Epoch 00050: val_acc did not improve\n",
      "Epoch 00051: val_acc did not improve\n",
      "Epoch 00052: val_acc did not improve\n",
      "Epoch 00053: val_acc did not improve\n",
      "Epoch 00054: val_acc did not improve\n",
      "Epoch 00055: val_acc did not improve\n",
      "Epoch 00056: val_acc did not improve\n",
      "Epoch 00057: val_acc did not improve\n",
      "Epoch 00058: val_acc did not improve\n",
      "Epoch 00059: val_acc did not improve\n",
      "Epoch 00060: val_acc did not improve\n",
      "Epoch 00061: val_acc did not improve\n",
      "Epoch 00062: val_acc did not improve\n",
      "Epoch 00063: val_acc did not improve\n",
      "Epoch 00064: val_acc did not improve\n",
      "Epoch 00065: val_acc did not improve\n",
      "Epoch 00066: val_acc did not improve\n",
      "Epoch 00067: val_acc did not improve\n",
      "Epoch 00068: val_acc did not improve\n",
      "Epoch 00069: val_acc did not improve\n",
      "Epoch 00070: val_acc did not improve\n",
      "Epoch 00071: val_acc did not improve\n",
      "Epoch 00072: val_acc improved from 0.78346 to 0.78740, saving model to /Users/jacobsw/Desktop/IMPLEMENTATION_CAMP/CODE/OJO/DEEP_LEARNING/CHECKPOINTS/weights-improvement-72-0.79.hdf5\n",
      "Epoch 00073: val_acc did not improve\n",
      "Epoch 00074: val_acc did not improve\n",
      "Epoch 00075: val_acc did not improve\n",
      "Epoch 00076: val_acc did not improve\n",
      "Epoch 00077: val_acc did not improve\n",
      "Epoch 00078: val_acc did not improve\n",
      "Epoch 00079: val_acc did not improve\n",
      "Epoch 00080: val_acc did not improve\n",
      "Epoch 00081: val_acc did not improve\n",
      "Epoch 00082: val_acc did not improve\n",
      "Epoch 00083: val_acc did not improve\n",
      "Epoch 00084: val_acc did not improve\n",
      "Epoch 00085: val_acc did not improve\n",
      "Epoch 00086: val_acc did not improve\n",
      "Epoch 00087: val_acc did not improve\n",
      "Epoch 00088: val_acc did not improve\n",
      "Epoch 00089: val_acc did not improve\n",
      "Epoch 00090: val_acc did not improve\n",
      "Epoch 00091: val_acc did not improve\n",
      "Epoch 00092: val_acc did not improve\n",
      "Epoch 00093: val_acc did not improve\n",
      "Epoch 00094: val_acc did not improve\n",
      "Epoch 00095: val_acc did not improve\n",
      "Epoch 00096: val_acc did not improve\n",
      "Epoch 00097: val_acc did not improve\n",
      "Epoch 00098: val_acc did not improve\n",
      "Epoch 00099: val_acc did not improve\n",
      "Epoch 00100: val_acc improved from 0.78740 to 0.79134, saving model to /Users/jacobsw/Desktop/IMPLEMENTATION_CAMP/CODE/OJO/DEEP_LEARNING/CHECKPOINTS/weights-improvement-100-0.79.hdf5\n",
      "Epoch 00101: val_acc did not improve\n",
      "Epoch 00102: val_acc did not improve\n",
      "Epoch 00103: val_acc did not improve\n",
      "Epoch 00104: val_acc did not improve\n",
      "Epoch 00105: val_acc did not improve\n",
      "Epoch 00106: val_acc did not improve\n",
      "Epoch 00107: val_acc did not improve\n",
      "Epoch 00108: val_acc did not improve\n",
      "Epoch 00109: val_acc did not improve\n",
      "Epoch 00110: val_acc did not improve\n",
      "Epoch 00111: val_acc did not improve\n",
      "Epoch 00112: val_acc improved from 0.79134 to 0.79134, saving model to /Users/jacobsw/Desktop/IMPLEMENTATION_CAMP/CODE/OJO/DEEP_LEARNING/CHECKPOINTS/weights-improvement-112-0.79.hdf5\n",
      "Epoch 00113: val_acc did not improve\n",
      "Epoch 00114: val_acc did not improve\n",
      "Epoch 00115: val_acc did not improve\n",
      "Epoch 00116: val_acc did not improve\n",
      "Epoch 00117: val_acc did not improve\n",
      "Epoch 00118: val_acc did not improve\n",
      "Epoch 00119: val_acc did not improve\n",
      "Epoch 00120: val_acc did not improve\n",
      "Epoch 00121: val_acc did not improve\n",
      "Epoch 00122: val_acc did not improve\n",
      "Epoch 00123: val_acc did not improve\n",
      "Epoch 00124: val_acc did not improve\n",
      "Epoch 00125: val_acc did not improve\n",
      "Epoch 00126: val_acc did not improve\n",
      "Epoch 00127: val_acc did not improve\n",
      "Epoch 00128: val_acc did not improve\n",
      "Epoch 00129: val_acc did not improve\n",
      "Epoch 00130: val_acc did not improve\n",
      "Epoch 00131: val_acc did not improve\n",
      "Epoch 00132: val_acc did not improve\n",
      "Epoch 00133: val_acc did not improve\n",
      "Epoch 00134: val_acc did not improve\n",
      "Epoch 00135: val_acc did not improve\n",
      "Epoch 00136: val_acc did not improve\n",
      "Epoch 00137: val_acc did not improve\n",
      "Epoch 00138: val_acc did not improve\n",
      "Epoch 00139: val_acc did not improve\n",
      "Epoch 00140: val_acc did not improve\n",
      "Epoch 00141: val_acc did not improve\n",
      "Epoch 00142: val_acc did not improve\n",
      "Epoch 00143: val_acc did not improve\n",
      "Epoch 00144: val_acc did not improve\n",
      "Epoch 00145: val_acc did not improve\n",
      "Epoch 00146: val_acc did not improve\n",
      "Epoch 00147: val_acc did not improve\n",
      "Epoch 00148: val_acc did not improve\n",
      "Epoch 00149: val_acc did not improve\n",
      "CPU times: user 3.26 s, sys: 48.4 ms, total: 3.3 s\n",
      "Wall time: 3.3 s\n"
     ]
    }
   ],
   "source": [
    "%%time\n",
    "# SET UP CHECKPOINTS + TRAIN\n",
    "checkpoint = ModelCheckpoint(checkpoint_folder+checkpoint_file, monitor='val_acc', verbose=1, save_best_only=True, mode='max')\n",
    "callbacks_list = [checkpoint]\n",
    "model.fit(X, Y, validation_split=.33, nb_epoch=150, batch_size=10, callbacks=callbacks_list, verbose=0)"
   ]
  },
  {
   "cell_type": "code",
   "execution_count": 20,
   "metadata": {
    "collapsed": false
   },
   "outputs": [
    {
     "name": "stdout",
     "output_type": "stream",
     "text": [
      "acc: 78.91%\n"
     ]
    }
   ],
   "source": [
    "# EVALUATION\n",
    "scores = model.evaluate(X, Y, verbose=0)\n",
    "print \"%s: %.2f%%\" % (model.metrics_names[1], scores[1]*100)"
   ]
  },
  {
   "cell_type": "markdown",
   "metadata": {},
   "source": [
    "### B. CHECKPOINTING BEST ONLY\n",
    "* only 1 best.hdf5 file."
   ]
  },
  {
   "cell_type": "code",
   "execution_count": 21,
   "metadata": {
    "collapsed": true
   },
   "outputs": [],
   "source": [
    "# MODEL BUILDING\n",
    "import numpy as np\n",
    "import matplotlib as plt\n",
    "from keras.models import Sequential\n",
    "from keras.layers import Dense\n",
    "from keras.callbacks import ModelCheckpoint\n",
    "path = \"/Users/jacobsw/Desktop/IMPLEMENTATION_CAMP/CODE/OJO/DEEP_LEARNING/DATA/uci/pima-indians-diabetes/pima-indians-diabetes.csv\"\n",
    "checkpoint_file = \"weights.best.hdf5\"\n",
    "seed = 7\n",
    "np.random.seed(seed)\n",
    "dataset = np.loadtxt(path, delimiter=\",\")\n",
    "X, Y = dataset[:,0:8], dataset[:,8]\n",
    "model = Sequential()\n",
    "model.add(Dense(12, input_dim=8, init='uniform', activation='relu'))\n",
    "model.add(Dense(8, init='uniform', activation='relu'))\n",
    "model.add(Dense(1, init='uniform', activation='sigmoid'))\n",
    "model.compile(loss='binary_crossentropy', optimizer='adam', metrics=['accuracy'])"
   ]
  },
  {
   "cell_type": "code",
   "execution_count": 22,
   "metadata": {
    "collapsed": false
   },
   "outputs": [
    {
     "name": "stdout",
     "output_type": "stream",
     "text": [
      "Epoch 00000: val_acc improved from -inf to 0.67323, saving model to /Users/jacobsw/Desktop/IMPLEMENTATION_CAMP/CODE/OJO/DEEP_LEARNING/CHECKPOINTS/weights.best.hdf5\n",
      "Epoch 00001: val_acc did not improve\n",
      "Epoch 00002: val_acc did not improve\n",
      "Epoch 00003: val_acc did not improve\n",
      "Epoch 00004: val_acc improved from 0.67323 to 0.68504, saving model to /Users/jacobsw/Desktop/IMPLEMENTATION_CAMP/CODE/OJO/DEEP_LEARNING/CHECKPOINTS/weights.best.hdf5\n",
      "Epoch 00005: val_acc did not improve\n",
      "Epoch 00006: val_acc did not improve\n",
      "Epoch 00007: val_acc did not improve\n",
      "Epoch 00008: val_acc did not improve\n",
      "Epoch 00009: val_acc did not improve\n",
      "Epoch 00010: val_acc did not improve\n",
      "Epoch 00011: val_acc did not improve\n",
      "Epoch 00012: val_acc did not improve\n",
      "Epoch 00013: val_acc did not improve\n",
      "Epoch 00014: val_acc did not improve\n",
      "Epoch 00015: val_acc did not improve\n",
      "Epoch 00016: val_acc did not improve\n",
      "Epoch 00017: val_acc did not improve\n",
      "Epoch 00018: val_acc did not improve\n",
      "Epoch 00019: val_acc did not improve\n",
      "Epoch 00020: val_acc did not improve\n",
      "Epoch 00021: val_acc did not improve\n",
      "Epoch 00022: val_acc did not improve\n",
      "Epoch 00023: val_acc did not improve\n",
      "Epoch 00024: val_acc did not improve\n",
      "Epoch 00025: val_acc did not improve\n",
      "Epoch 00026: val_acc did not improve\n",
      "Epoch 00027: val_acc did not improve\n",
      "Epoch 00028: val_acc did not improve\n",
      "Epoch 00029: val_acc did not improve\n",
      "Epoch 00030: val_acc did not improve\n",
      "Epoch 00031: val_acc did not improve\n",
      "Epoch 00032: val_acc did not improve\n",
      "Epoch 00033: val_acc did not improve\n",
      "Epoch 00034: val_acc did not improve\n",
      "Epoch 00035: val_acc did not improve\n",
      "Epoch 00036: val_acc did not improve\n",
      "Epoch 00037: val_acc did not improve\n",
      "Epoch 00038: val_acc did not improve\n",
      "Epoch 00039: val_acc did not improve\n",
      "Epoch 00040: val_acc did not improve\n",
      "Epoch 00041: val_acc did not improve\n",
      "Epoch 00042: val_acc did not improve\n",
      "Epoch 00043: val_acc did not improve\n",
      "Epoch 00044: val_acc did not improve\n",
      "Epoch 00045: val_acc did not improve\n",
      "Epoch 00046: val_acc did not improve\n",
      "Epoch 00047: val_acc improved from 0.68504 to 0.70079, saving model to /Users/jacobsw/Desktop/IMPLEMENTATION_CAMP/CODE/OJO/DEEP_LEARNING/CHECKPOINTS/weights.best.hdf5\n",
      "Epoch 00048: val_acc improved from 0.70079 to 0.70866, saving model to /Users/jacobsw/Desktop/IMPLEMENTATION_CAMP/CODE/OJO/DEEP_LEARNING/CHECKPOINTS/weights.best.hdf5\n",
      "Epoch 00049: val_acc did not improve\n",
      "Epoch 00050: val_acc did not improve\n",
      "Epoch 00051: val_acc did not improve\n",
      "Epoch 00052: val_acc did not improve\n",
      "Epoch 00053: val_acc did not improve\n",
      "Epoch 00054: val_acc improved from 0.70866 to 0.71654, saving model to /Users/jacobsw/Desktop/IMPLEMENTATION_CAMP/CODE/OJO/DEEP_LEARNING/CHECKPOINTS/weights.best.hdf5\n",
      "Epoch 00055: val_acc did not improve\n",
      "Epoch 00056: val_acc did not improve\n",
      "Epoch 00057: val_acc did not improve\n",
      "Epoch 00058: val_acc improved from 0.71654 to 0.72441, saving model to /Users/jacobsw/Desktop/IMPLEMENTATION_CAMP/CODE/OJO/DEEP_LEARNING/CHECKPOINTS/weights.best.hdf5\n",
      "Epoch 00059: val_acc did not improve\n",
      "Epoch 00060: val_acc did not improve\n",
      "Epoch 00061: val_acc did not improve\n",
      "Epoch 00062: val_acc did not improve\n",
      "Epoch 00063: val_acc did not improve\n",
      "Epoch 00064: val_acc did not improve\n",
      "Epoch 00065: val_acc did not improve\n",
      "Epoch 00066: val_acc did not improve\n",
      "Epoch 00067: val_acc did not improve\n",
      "Epoch 00068: val_acc did not improve\n",
      "Epoch 00069: val_acc did not improve\n",
      "Epoch 00070: val_acc did not improve\n",
      "Epoch 00071: val_acc did not improve\n",
      "Epoch 00072: val_acc did not improve\n",
      "Epoch 00073: val_acc did not improve\n",
      "Epoch 00074: val_acc did not improve\n",
      "Epoch 00075: val_acc did not improve\n",
      "Epoch 00076: val_acc did not improve\n",
      "Epoch 00077: val_acc improved from 0.72441 to 0.72835, saving model to /Users/jacobsw/Desktop/IMPLEMENTATION_CAMP/CODE/OJO/DEEP_LEARNING/CHECKPOINTS/weights.best.hdf5\n",
      "Epoch 00078: val_acc did not improve\n",
      "Epoch 00079: val_acc did not improve\n",
      "Epoch 00080: val_acc did not improve\n",
      "Epoch 00081: val_acc did not improve\n",
      "Epoch 00082: val_acc did not improve\n",
      "Epoch 00083: val_acc did not improve\n",
      "Epoch 00084: val_acc did not improve\n",
      "Epoch 00085: val_acc did not improve\n",
      "Epoch 00086: val_acc did not improve\n",
      "Epoch 00087: val_acc did not improve\n",
      "Epoch 00088: val_acc did not improve\n",
      "Epoch 00089: val_acc did not improve\n",
      "Epoch 00090: val_acc improved from 0.72835 to 0.74409, saving model to /Users/jacobsw/Desktop/IMPLEMENTATION_CAMP/CODE/OJO/DEEP_LEARNING/CHECKPOINTS/weights.best.hdf5\n",
      "Epoch 00091: val_acc improved from 0.74409 to 0.74803, saving model to /Users/jacobsw/Desktop/IMPLEMENTATION_CAMP/CODE/OJO/DEEP_LEARNING/CHECKPOINTS/weights.best.hdf5\n",
      "Epoch 00092: val_acc did not improve\n",
      "Epoch 00093: val_acc did not improve\n",
      "Epoch 00094: val_acc did not improve\n",
      "Epoch 00095: val_acc did not improve\n",
      "Epoch 00096: val_acc did not improve\n",
      "Epoch 00097: val_acc did not improve\n",
      "Epoch 00098: val_acc did not improve\n",
      "Epoch 00099: val_acc did not improve\n",
      "Epoch 00100: val_acc did not improve\n",
      "Epoch 00101: val_acc did not improve\n",
      "Epoch 00102: val_acc improved from 0.74803 to 0.76378, saving model to /Users/jacobsw/Desktop/IMPLEMENTATION_CAMP/CODE/OJO/DEEP_LEARNING/CHECKPOINTS/weights.best.hdf5\n",
      "Epoch 00103: val_acc did not improve\n",
      "Epoch 00104: val_acc did not improve\n",
      "Epoch 00105: val_acc did not improve\n",
      "Epoch 00106: val_acc did not improve\n",
      "Epoch 00107: val_acc did not improve\n",
      "Epoch 00108: val_acc did not improve\n",
      "Epoch 00109: val_acc did not improve\n",
      "Epoch 00110: val_acc did not improve\n",
      "Epoch 00111: val_acc did not improve\n",
      "Epoch 00112: val_acc did not improve\n",
      "Epoch 00113: val_acc did not improve\n",
      "Epoch 00114: val_acc did not improve\n",
      "Epoch 00115: val_acc did not improve\n",
      "Epoch 00116: val_acc did not improve\n",
      "Epoch 00117: val_acc did not improve\n",
      "Epoch 00118: val_acc did not improve\n",
      "Epoch 00119: val_acc did not improve\n",
      "Epoch 00120: val_acc did not improve\n",
      "Epoch 00121: val_acc did not improve\n",
      "Epoch 00122: val_acc did not improve\n",
      "Epoch 00123: val_acc did not improve\n",
      "Epoch 00124: val_acc did not improve\n",
      "Epoch 00125: val_acc did not improve\n",
      "Epoch 00126: val_acc did not improve\n",
      "Epoch 00127: val_acc did not improve\n",
      "Epoch 00128: val_acc did not improve\n",
      "Epoch 00129: val_acc did not improve\n",
      "Epoch 00130: val_acc improved from 0.76378 to 0.76772, saving model to /Users/jacobsw/Desktop/IMPLEMENTATION_CAMP/CODE/OJO/DEEP_LEARNING/CHECKPOINTS/weights.best.hdf5\n",
      "Epoch 00131: val_acc did not improve\n",
      "Epoch 00132: val_acc did not improve\n",
      "Epoch 00133: val_acc did not improve\n",
      "Epoch 00134: val_acc did not improve\n",
      "Epoch 00135: val_acc did not improve\n",
      "Epoch 00136: val_acc did not improve\n",
      "Epoch 00137: val_acc did not improve\n",
      "Epoch 00138: val_acc did not improve\n",
      "Epoch 00139: val_acc did not improve\n",
      "Epoch 00140: val_acc did not improve\n",
      "Epoch 00141: val_acc improved from 0.76772 to 0.77559, saving model to /Users/jacobsw/Desktop/IMPLEMENTATION_CAMP/CODE/OJO/DEEP_LEARNING/CHECKPOINTS/weights.best.hdf5\n",
      "Epoch 00142: val_acc did not improve\n",
      "Epoch 00143: val_acc did not improve\n",
      "Epoch 00144: val_acc did not improve\n",
      "Epoch 00145: val_acc did not improve\n",
      "Epoch 00146: val_acc improved from 0.77559 to 0.77559, saving model to /Users/jacobsw/Desktop/IMPLEMENTATION_CAMP/CODE/OJO/DEEP_LEARNING/CHECKPOINTS/weights.best.hdf5\n",
      "Epoch 00147: val_acc did not improve\n",
      "Epoch 00148: val_acc did not improve\n",
      "Epoch 00149: val_acc did not improve\n",
      "CPU times: user 4.47 s, sys: 54.4 ms, total: 4.52 s\n",
      "Wall time: 4.51 s\n"
     ]
    }
   ],
   "source": [
    "%%time\n",
    "# SET UP CHECKPOINTS + TRAIN\n",
    "checkpoint = ModelCheckpoint(checkpoint_folder+checkpoint_file, monitor='val_acc', verbose=1, save_best_only=True, mode='max')\n",
    "callbacks_list = [checkpoint]\n",
    "model.fit(X, Y, validation_split=.33, nb_epoch=150, batch_size=10, callbacks=callbacks_list, verbose=0)"
   ]
  },
  {
   "cell_type": "code",
   "execution_count": 23,
   "metadata": {
    "collapsed": false
   },
   "outputs": [
    {
     "name": "stdout",
     "output_type": "stream",
     "text": [
      "acc: 74.22%\n"
     ]
    }
   ],
   "source": [
    "# EVALUATION\n",
    "scores = model.evaluate(X, Y, verbose=0)\n",
    "print \"%s: %.2f%%\" % (model.metrics_names[1], scores[1]*100)"
   ]
  },
  {
   "cell_type": "markdown",
   "metadata": {},
   "source": [
    "### C. LOADING CHECKPOINT FILES"
   ]
  },
  {
   "cell_type": "code",
   "execution_count": 24,
   "metadata": {
    "collapsed": true
   },
   "outputs": [],
   "source": [
    "# MODEL BUILDING (ORIGINAL ARCHITECTURE W/O TRAIN)\n",
    "import numpy as np\n",
    "import matplotlib as plt\n",
    "from keras.models import Sequential\n",
    "from keras.layers import Dense\n",
    "from keras.callbacks import ModelCheckpoint\n",
    "path = \"/Users/jacobsw/Desktop/IMPLEMENTATION_CAMP/CODE/OJO/DEEP_LEARNING/DATA/uci/pima-indians-diabetes/pima-indians-diabetes.csv\"\n",
    "seed = 7\n",
    "np.random.seed(seed)\n",
    "model = Sequential()\n",
    "model.add(Dense(12, input_dim=8, init='uniform', activation='relu'))\n",
    "model.add(Dense(8, init='uniform', activation='relu'))\n",
    "model.add(Dense(1, init='uniform', activation='sigmoid'))"
   ]
  },
  {
   "cell_type": "code",
   "execution_count": 25,
   "metadata": {
    "collapsed": true
   },
   "outputs": [],
   "source": [
    "# LOAD CHECKPOINT WEIGHTS\n",
    "model.load_weights(checkpoint_folder+\"weights.best.hdf5\")\n",
    "model.compile(loss='binary_crossentropy', optimizer='adam', metrics=['accuracy'])"
   ]
  },
  {
   "cell_type": "code",
   "execution_count": 26,
   "metadata": {
    "collapsed": false
   },
   "outputs": [
    {
     "name": "stdout",
     "output_type": "stream",
     "text": [
      "acc: 77.34%\n"
     ]
    }
   ],
   "source": [
    "# LOAD DATA + EVALUATION\n",
    "dataset = np.loadtxt(path, delimiter=\",\")\n",
    "X, Y = dataset[:,0:8], dataset[:,8]\n",
    "scores = model.evaluate(X, Y, verbose=0)\n",
    "print \"%s: %.2f%%\" % (model.metrics_names[1], scores[1]*100)"
   ]
  },
  {
   "cell_type": "markdown",
   "metadata": {},
   "source": [
    "# MODEL BEHAVIOR TRACKING"
   ]
  },
  {
   "cell_type": "code",
   "execution_count": null,
   "metadata": {
    "collapsed": true
   },
   "outputs": [],
   "source": [
    "# PURPOSES\n",
    "#  - tracking speed of convergence.\n",
    "#  - checking convergence status (y/n).\n",
    "#  - monitoring training and preventing overlearning."
   ]
  },
  {
   "cell_type": "code",
   "execution_count": 29,
   "metadata": {
    "collapsed": true
   },
   "outputs": [],
   "source": [
    "# MODEL BUILDING\n",
    "import numpy as np\n",
    "import matplotlib.pyplot as plt\n",
    "%matplotlib inline\n",
    "from keras.models import Sequential\n",
    "from keras.layers import Dense\n",
    "from keras.callbacks import ModelCheckpoint\n",
    "path = \"/Users/jacobsw/Desktop/IMPLEMENTATION_CAMP/CODE/OJO/DEEP_LEARNING/DATA/uci/pima-indians-diabetes/pima-indians-diabetes.csv\"\n",
    "seed = 7\n",
    "np.random.seed(seed)\n",
    "dataset = np.loadtxt(path, delimiter=\",\")\n",
    "X, Y = dataset[:,0:8], dataset[:,8]\n",
    "model = Sequential()\n",
    "model.add(Dense(12, input_dim=8, init='uniform', activation='relu'))\n",
    "model.add(Dense(8, init='uniform', activation='relu'))\n",
    "model.add(Dense(1, init='uniform', activation='sigmoid'))\n",
    "model.compile(loss='binary_crossentropy', optimizer='adam', metrics=['accuracy'])"
   ]
  },
  {
   "cell_type": "code",
   "execution_count": 31,
   "metadata": {
    "collapsed": false
   },
   "outputs": [
    {
     "name": "stdout",
     "output_type": "stream",
     "text": [
      "['acc', 'loss', 'val_acc', 'val_loss']\n",
      "CPU times: user 3.07 s, sys: 7.38 ms, total: 3.08 s\n",
      "Wall time: 3.08 s\n"
     ]
    }
   ],
   "source": [
    "%%time\n",
    "# SAVE HISTORY\n",
    "history = model.fit(X, Y, validation_split=.33, nb_epoch=150, batch_size=10, verbose=0)\n",
    "print history.history.keys() # contains: ['acc', 'loss', 'val_acc', 'val_loss']."
   ]
  },
  {
   "cell_type": "code",
   "execution_count": 32,
   "metadata": {
    "collapsed": false
   },
   "outputs": [
    {
     "data": {
      "image/png": "[encoded data removed]",
      "text/plain": [
       "<matplotlib.figure.Figure at 0x11b3f9fd0>"
      ]
     },
     "metadata": {},
     "output_type": "display_data"
    }
   ],
   "source": [
    "# HISTORY PLOTTING 1: ACCURACY\n",
    "plt.plot(history.history['acc'])\n",
    "plt.plot(history.history['val_acc'])\n",
    "plt.title('Model Accuray')\n",
    "plt.ylabel('Accuracy')\n",
    "plt.xlabel('Epoch')\n",
    "plt.legend(['train', 'test'], loc='upper left')\n",
    "plt.show()"
   ]
  },
  {
   "cell_type": "code",
   "execution_count": 34,
   "metadata": {
    "collapsed": false
   },
   "outputs": [
    {
     "data": {
      "image/png": "[encoded data removed]",
      "text/plain": [
       "<matplotlib.figure.Figure at 0x11b882c90>"
      ]
     },
     "metadata": {},
     "output_type": "display_data"
    }
   ],
   "source": [
    "# HISTORY PLOTTING 2: LOSS\n",
    "plt.plot(history.history['loss'])\n",
    "plt.plot(history.history['val_loss'])\n",
    "plt.title('Model Loss')\n",
    "plt.ylabel('Loss')\n",
    "plt.xlabel('Epoch')\n",
    "plt.legend(['train', 'test'], loc='upper left')\n",
    "plt.show()"
   ]
  },
  {
   "cell_type": "markdown",
   "metadata": {},
   "source": [
    "# DROPOUT REGULARIZATION"
   ]
  },
  {
   "cell_type": "code",
   "execution_count": 54,
   "metadata": {
    "collapsed": true
   },
   "outputs": [],
   "source": [
    "# IDEA\n",
    "#  the technique randomly select neurons to ignore during training to avoid overfitting.\n",
    "#   dropped-out neurons temporarily give their 'job' to the rest of the neurons \n",
    "#   (i.e. weights adjustment for better fitting), therefore no neuron is 'too special to be spared',\n",
    "#   thus the model will not be overly reliant on specific weights of neurons.\n",
    "#\n",
    "# TECHNIQUE\n",
    "#  a given fraction of neurons are dropped-out in each weight update cycle (e.g. 20%).\n",
    "#\n",
    "# TIPS\n",
    "#  - 20%-50% is a good range for starting point.\n",
    "#  - works well with large network.\n",
    "#  - apply on all layers.\n",
    "#  - use large lr with decay and large momentum.\n",
    "#  - constrain the size of network weights (4 or 5 as cap)."
   ]
  },
  {
   "cell_type": "markdown",
   "metadata": {},
   "source": [
    "### DEMO: SONAR DATA"
   ]
  },
  {
   "cell_type": "markdown",
   "metadata": {},
   "source": [
    "#### A. BASELINE PERFORMANCE"
   ]
  },
  {
   "cell_type": "code",
   "execution_count": 37,
   "metadata": {
    "collapsed": true
   },
   "outputs": [],
   "source": [
    "import numpy as np\n",
    "import pandas as pd\n",
    "from keras.models import Sequential\n",
    "from keras.layers import Dense, Dropout\n",
    "from keras.wrappers.scikit_learn import KerasClassifier\n",
    "from keras.constraints import maxnorm\n",
    "from keras.optimizers import SGD\n",
    "from sklearn.cross_validation import cross_val_score, StratifiedKFold\n",
    "from sklearn.preprocessing import LabelEncoder, StandardScaler\n",
    "from sklearn.grid_search import GridSearchCV\n",
    "from sklearn.pipeline import Pipeline\n",
    "path = '/Users/jacobsw/Desktop/IMPLEMENTATION_CAMP/CODE/OJO/DEEP_LEARNING/DATA/uci/sonar/sonar.csv'"
   ]
  },
  {
   "cell_type": "code",
   "execution_count": 41,
   "metadata": {
    "collapsed": true
   },
   "outputs": [],
   "source": [
    "# MODEL BUILDING\n",
    "seed = 7\n",
    "np.random.seed(seed)\n",
    "dataframe = pd.read_csv(path, header=None)\n",
    "dataset = dataframe.values\n",
    "X, Y = dataset[:,0:60].astype(float), dataset[:,60]\n",
    "encoder = LabelEncoder()\n",
    "encoder.fit(Y)\n",
    "encoded_Y = encoder.transform(Y)\n",
    "def create_baseline():\n",
    "    model = Sequential()\n",
    "    model.add(Dense(60, input_dim=60, init='normal', activation='relu'))\n",
    "    model.add(Dense(30, init='normal', activation='relu'))\n",
    "    model.add(Dense(1, init='normal', activation='sigmoid'))\n",
    "    sgd = SGD(lr=.01, momentum=.8, decay=.0, nesterov=False)\n",
    "        # lr: float >= 0. Learning rate.\n",
    "        # momentum: float >= 0. Parameter updates momentum.\n",
    "        # decay: float >= 0. Learning rate decay over each update.\n",
    "        # nesterov: boolean. Whether to apply Nesterov momentum.\n",
    "    model.compile(loss='binary_crossentropy', optimizer=sgd, metrics=['accuracy'])\n",
    "    return model\n",
    "np.random.seed(seed)\n",
    "estimators = []\n",
    "estimators.append(('standardize', StandardScaler()))\n",
    "estimators.append(('mlp', KerasClassifier(build_fn=create_baseline, nb_epoch=50, batch_size=10, verbose=0)))\n",
    "pipeline = Pipeline(estimators)\n",
    "kfold = StratifiedKFold(y=encoded_Y, n_folds=10, shuffle=True, random_state=seed)"
   ]
  },
  {
   "cell_type": "code",
   "execution_count": 42,
   "metadata": {
    "collapsed": false
   },
   "outputs": [
    {
     "name": "stdout",
     "output_type": "stream",
     "text": [
      "Accuracy: 85.59% (5.16%)\n",
      "CPU times: user 11.5 s, sys: 114 ms, total: 11.6 s\n",
      "Wall time: 16.4 s\n"
     ]
    }
   ],
   "source": [
    "%%time\n",
    "# EVALUATION\n",
    "results = cross_val_score(pipeline, X, encoded_Y, cv=kfold)\n",
    "print \"Accuracy: %.2f%% (%.2f%%)\" % (results.mean()*100, results.std()*100)"
   ]
  },
  {
   "cell_type": "markdown",
   "metadata": {},
   "source": [
    "#### B1. DROPOUT (VISIBLE LAYER)"
   ]
  },
  {
   "cell_type": "code",
   "execution_count": 43,
   "metadata": {
    "collapsed": true
   },
   "outputs": [],
   "source": [
    "# DROPOUT MODEL GENERATER\n",
    "def create_dropout1():\n",
    "    model = Sequential()\n",
    "    model.add(Dropout(.2, input_shape=(60,))) # 20% dropout rate.\n",
    "    model.add(Dense(60, init='normal', activation='relu', W_constraint=maxnorm(3))) # individual weight cap at 3.\n",
    "    model.add(Dense(30, init='normal', activation='relu', W_constraint=maxnorm(3)))\n",
    "    model.add(Dense(1, init='normal', activation='sigmoid'))\n",
    "    sgd = SGD(lr=.1, momentum=.9, decay=.0, nesterov=False)\n",
    "    model.compile(loss='binary_crossentropy', optimizer=sgd, metrics=['accuracy'])\n",
    "    return model"
   ]
  },
  {
   "cell_type": "code",
   "execution_count": 44,
   "metadata": {
    "collapsed": true
   },
   "outputs": [],
   "source": [
    "# MODEL BUILDING\n",
    "np.random.seed(seed)\n",
    "estimators = []\n",
    "estimators.append(('standardize', StandardScaler()))\n",
    "estimators.append(('mlp', KerasClassifier(build_fn=create_dropout1, nb_epoch=50, batch_size=10, verbose=0)))\n",
    "pipeline = Pipeline(estimators)\n",
    "kfold = StratifiedKFold(y=encoded_Y, n_folds=10, shuffle=True, random_state=seed)"
   ]
  },
  {
   "cell_type": "code",
   "execution_count": 45,
   "metadata": {
    "collapsed": false
   },
   "outputs": [
    {
     "name": "stdout",
     "output_type": "stream",
     "text": [
      "Accuracy: 82.54% (10.82%)\n",
      "CPU times: user 15.1 s, sys: 139 ms, total: 15.3 s\n",
      "Wall time: 19.3 s\n"
     ]
    }
   ],
   "source": [
    "%%time\n",
    "# EVALUATION\n",
    "results = cross_val_score(pipeline, X, encoded_Y, cv=kfold)\n",
    "print \"Accuracy: %.2f%% (%.2f%%)\" % (results.mean()*100, results.std()*100)"
   ]
  },
  {
   "cell_type": "markdown",
   "metadata": {},
   "source": [
    "#### B2. DROPOUT (HIDDEN LAYER)"
   ]
  },
  {
   "cell_type": "code",
   "execution_count": 50,
   "metadata": {
    "collapsed": false
   },
   "outputs": [],
   "source": [
    "# DROPOUT MODEL GENERATER\n",
    "def create_dropout2():\n",
    "    model = Sequential()\n",
    "    model.add(Dense(60, input_dim=60, init='normal', activation='relu', W_constraint=maxnorm(3)))\n",
    "    model.add(Dropout(.2))\n",
    "    model.add(Dense(30, init='normal', activation='relu', W_constraint=maxnorm(3)))\n",
    "    model.add(Dense(1, init='normal', activation='sigmoid'))\n",
    "    sgd = SGD(lr=.1, momentum=.9, decay=.0, nesterov=False)\n",
    "    model.compile(loss='binary_crossentropy', optimizer=sgd, metrics=['accuracy'])\n",
    "    return model"
   ]
  },
  {
   "cell_type": "code",
   "execution_count": 51,
   "metadata": {
    "collapsed": false
   },
   "outputs": [],
   "source": [
    "# MODEL BUILDING\n",
    "np.random.seed(seed)\n",
    "estimators = []\n",
    "estimators.append(('standardize', StandardScaler()))\n",
    "estimators.append(('mlp', KerasClassifier(build_fn=create_dropout2, nb_epoch=50, batch_size=10, verbose=0)))\n",
    "pipeline = Pipeline(estimators)\n",
    "kfold = StratifiedKFold(y=encoded_Y, n_folds=10, shuffle=True, random_state=seed)"
   ]
  },
  {
   "cell_type": "code",
   "execution_count": 52,
   "metadata": {
    "collapsed": false
   },
   "outputs": [
    {
     "name": "stdout",
     "output_type": "stream",
     "text": [
      "Accuracy: 80.74% (7.99%)\n",
      "CPU times: user 15.9 s, sys: 169 ms, total: 16.1 s\n",
      "Wall time: 19.7 s\n"
     ]
    }
   ],
   "source": [
    "%%time\n",
    "# EVALUATION\n",
    "results = cross_val_score(pipeline, X, encoded_Y, cv=kfold)\n",
    "print \"Accuracy: %.2f%% (%.2f%%)\" % (results.mean()*100, results.std()*100)"
   ]
  },
  {
   "cell_type": "markdown",
   "metadata": {},
   "source": [
    "# LEARNING RATE SCHEDULES"
   ]
  },
  {
   "cell_type": "code",
   "execution_count": 78,
   "metadata": {
    "collapsed": true
   },
   "outputs": [],
   "source": [
    "# PURPOSE & TECHNIQUE\n",
    "#  also called 'learning rate annealing'. it changes learning rate according to a schedule. \n",
    "#   it has been shown to lift performance.\n",
    "# \n",
    "# TYPES\n",
    "#  - time-based: gradual decrease during training.\n",
    "#  - drop-based: punctuated large drops at specific epochs..\n",
    "#\n",
    "# TIPS\n",
    "#  - increase the initial learning rate.\n",
    "#  - use large momentum.\n",
    "#  - experiment with different schedules."
   ]
  },
  {
   "cell_type": "code",
   "execution_count": 55,
   "metadata": {
    "collapsed": true
   },
   "outputs": [],
   "source": [
    "# IONOSPHERE DATA\n",
    "#  - predictors: 34 parameters on sonar bounce-back on electrons.\n",
    "#  - response: 2 class (good/bad of sonar bounce-back).\n",
    "path = '/Users/jacobsw/Desktop/IMPLEMENTATION_CAMP/CODE/OJO/DEEP_LEARNING/DATA/uci/ionosphere/ionosphere.csv'"
   ]
  },
  {
   "cell_type": "markdown",
   "metadata": {},
   "source": [
    "### A. TIME-BASED LEANRING RATE SCHEDULING"
   ]
  },
  {
   "cell_type": "code",
   "execution_count": 58,
   "metadata": {
    "collapsed": true
   },
   "outputs": [],
   "source": [
    "import numpy as np\n",
    "import pandas as pd\n",
    "from keras.models import Sequential\n",
    "from keras.layers import Dense\n",
    "from keras.optimizers import SGD\n",
    "from sklearn.preprocessing import LabelEncoder"
   ]
  },
  {
   "cell_type": "code",
   "execution_count": 62,
   "metadata": {
    "collapsed": false
   },
   "outputs": [
    {
     "name": "stdout",
     "output_type": "stream",
     "text": [
      "acc: 99.43%\n",
      "CPU times: user 1.36 s, sys: 8.35 ms, total: 1.36 s\n",
      "Wall time: 1.36 s\n"
     ]
    }
   ],
   "source": [
    "%%time\n",
    "# MODEL BUILDING & RUNNING\n",
    "seed = 7\n",
    "np.random.seed(seed)\n",
    "dataframe = pd.read_csv(path, header=None)\n",
    "dataset = dataframe.values\n",
    "X, Y = dataset[:,0:34].astype(float), dataset[:,34]\n",
    "encoder = LabelEncoder()\n",
    "encoder.fit(Y)\n",
    "Y = encoder.transform(Y)\n",
    "model = Sequential()\n",
    "model.add(Dense(34, input_dim=34, init='normal', activation='relu'))\n",
    "model.add(Dense(1, init='normal', activation='sigmoid'))\n",
    "epochs = 50\n",
    "learning_rate = .1\n",
    "decay_rate = learning_rate / epochs\n",
    "momentum = .8\n",
    "sgd = SGD(lr=learning_rate, momentum=momentum, decay=decay_rate, nesterov=False)\n",
    "    # SGD learning rate function:\n",
    "    # lr = lr * 1 / (1+decay*epoch).\n",
    "model.compile(loss='binary_crossentropy', optimizer=sgd, metrics=['accuracy'])\n",
    "model.fit(X, Y, validation_split=.33, nb_epoch=epochs, batch_size=10, verbose=0)\n",
    "scores = model.evaluate(X, Y, verbose=0)\n",
    "print \"%s: %.2f%%\" % (model.metrics_names[1], scores[1]*100)"
   ]
  },
  {
   "cell_type": "markdown",
   "metadata": {},
   "source": [
    "### B. DROP-BASED LEARNING RATE SCHEDULING"
   ]
  },
  {
   "cell_type": "code",
   "execution_count": null,
   "metadata": {
    "collapsed": true
   },
   "outputs": [],
   "source": [
    "# DROP-BASED\n",
    "#  lr = (lr_init * drop_rate)^{floor((1+epoch)/epoch_drop)}."
   ]
  },
  {
   "cell_type": "code",
   "execution_count": 70,
   "metadata": {
    "collapsed": true
   },
   "outputs": [],
   "source": [
    "import numpy as np\n",
    "import pandas as pd\n",
    "import math\n",
    "from keras.models import Sequential\n",
    "from keras.layers import Dense\n",
    "from keras.optimizers import SGD\n",
    "from sklearn.preprocessing import LabelEncoder\n",
    "from keras.callbacks import LearningRateScheduler"
   ]
  },
  {
   "cell_type": "code",
   "execution_count": 71,
   "metadata": {
    "collapsed": true
   },
   "outputs": [],
   "source": [
    "# LEARNING RATE SCHDULE CONTROLLER\n",
    "def step_decay(epoch):\n",
    "    initial_lrate = .1\n",
    "    drop = .5 # drop by .5 per time.\n",
    "    epochs_drop = 10.\n",
    "    lrate = math.pow(initial_lrate*drop, math.floor((1+epoch)/epochs_drop))\n",
    "    return lrate"
   ]
  },
  {
   "cell_type": "code",
   "execution_count": 72,
   "metadata": {
    "collapsed": true
   },
   "outputs": [],
   "source": [
    "# MODEL BUILDING\n",
    "seed = 7\n",
    "np.random.seed(seed)\n",
    "dataframe = pd.read_csv(path, header=None)\n",
    "dataset = dataframe.values\n",
    "X, Y = dataset[:,0:34].astype(float), dataset[:,34]\n",
    "encoder = LabelEncoder()\n",
    "encoder.fit(Y)\n",
    "Y = encoder.transform(Y)\n",
    "model = Sequential()\n",
    "model.add(Dense(34, input_dim=34, init='normal', activation='relu'))\n",
    "model.add(Dense(1, init='normal', activation='sigmoid'))\n",
    "epochs = 50\n",
    "learning_rate = .1\n",
    "decay_rate = learning_rate / epochs\n",
    "momentum = .8\n",
    "sgd = SGD(lr=.0, momentum=.0, decay=.0, nesterov=False)\n",
    "    # SGD learning rate function:\n",
    "    # lr = lr * 1 / (1+decay*epoch).\n",
    "model.compile(loss='binary_crossentropy', optimizer=sgd, metrics=['accuracy'])"
   ]
  },
  {
   "cell_type": "code",
   "execution_count": 73,
   "metadata": {
    "collapsed": true
   },
   "outputs": [],
   "source": [
    "# LEARNING SCHEDULE CALLBACK\n",
    "lrate = LearningRateScheduler(step_decay)\n",
    "callbacks_list = [lrate]"
   ]
  },
  {
   "cell_type": "code",
   "execution_count": 77,
   "metadata": {
    "collapsed": false
   },
   "outputs": [
    {
     "name": "stdout",
     "output_type": "stream",
     "text": [
      "acc: 99.43%\n",
      "CPU times: user 418 ms, sys: 3.2 ms, total: 421 ms\n",
      "Wall time: 421 ms\n"
     ]
    }
   ],
   "source": [
    "%%time\n",
    "# MODEL RUNNING & EVALUATION\n",
    "model.fit(X, Y, validation_split=.33, nb_epoch=50, batch_size=10, callbacks=callbacks_list, verbose=0)\n",
    "scores = model.evaluate(X, Y, verbose=0)\n",
    "print \"%s: %.2f%%\" % (model.metrics_names[1], scores[1]*100)"
   ]
  },
  {
   "cell_type": "code",
   "execution_count": null,
   "metadata": {
    "collapsed": true
   },
   "outputs": [],
   "source": [
    ""
   ]
  },
  {
   "cell_type": "code",
   "execution_count": null,
   "metadata": {
    "collapsed": true
   },
   "outputs": [],
   "source": [
    ""
   ]
  },
  {
   "cell_type": "code",
   "execution_count": null,
   "metadata": {
    "collapsed": true
   },
   "outputs": [],
   "source": [
    ""
   ]
  },
  {
   "cell_type": "code",
   "execution_count": null,
   "metadata": {
    "collapsed": true
   },
   "outputs": [],
   "source": [
    ""
   ]
  },
  {
   "cell_type": "code",
   "execution_count": null,
   "metadata": {
    "collapsed": true
   },
   "outputs": [],
   "source": [
    ""
   ]
  },
  {
   "cell_type": "code",
   "execution_count": null,
   "metadata": {
    "collapsed": true
   },
   "outputs": [],
   "source": [
    ""
   ]
  },
  {
   "cell_type": "code",
   "execution_count": null,
   "metadata": {
    "collapsed": true
   },
   "outputs": [],
   "source": [
    ""
   ]
  },
  {
   "cell_type": "code",
   "execution_count": null,
   "metadata": {
    "collapsed": true
   },
   "outputs": [],
   "source": [
    ""
   ]
  },
  {
   "cell_type": "code",
   "execution_count": null,
   "metadata": {
    "collapsed": true
   },
   "outputs": [],
   "source": [
    ""
   ]
  },
  {
   "cell_type": "code",
   "execution_count": null,
   "metadata": {
    "collapsed": true
   },
   "outputs": [],
   "source": [
    ""
   ]
  },
  {
   "cell_type": "code",
   "execution_count": null,
   "metadata": {
    "collapsed": true
   },
   "outputs": [],
   "source": [
    ""
   ]
  },
  {
   "cell_type": "code",
   "execution_count": null,
   "metadata": {
    "collapsed": true
   },
   "outputs": [],
   "source": [
    ""
   ]
  },
  {
   "cell_type": "code",
   "execution_count": null,
   "metadata": {
    "collapsed": true
   },
   "outputs": [],
   "source": [
    ""
   ]
  },
  {
   "cell_type": "code",
   "execution_count": null,
   "metadata": {
    "collapsed": true
   },
   "outputs": [],
   "source": [
    ""
   ]
  },
  {
   "cell_type": "code",
   "execution_count": null,
   "metadata": {
    "collapsed": true
   },
   "outputs": [],
   "source": [
    ""
   ]
  }
 ],
 "metadata": {
  "kernelspec": {
   "display_name": "Python 2",
   "language": "python",
   "name": "python2"
  },
  "language_info": {
   "codemirror_mode": {
    "name": "ipython",
    "version": 2.0
   },
   "file_extension": ".py",
   "mimetype": "text/x-python",
   "name": "python",
   "nbconvert_exporter": "python",
   "pygments_lexer": "ipython2",
   "version": "2.7.11"
  }
 },
 "nbformat": 4,
 "nbformat_minor": 0
}