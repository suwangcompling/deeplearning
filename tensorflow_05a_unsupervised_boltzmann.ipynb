{
 "cells": [
  {
   "cell_type": "code",
   "execution_count": 35,
   "metadata": {
    "collapsed": false
   },
   "outputs": [],
   "source": [
    "# HELPER FUNCTIONS\n",
    "\n",
    "import urllib\n",
    "response = urllib.urlopen('http://deeplearning.net/tutorial/code/utils.py')\n",
    "content = response.read()\n",
    "target = open('utils.py', 'w')\n",
    "target.write(content)\n",
    "target.close()\n",
    "\n",
    "import tensorflow as tf\n",
    "import numpy as np\n",
    "from tensorflow.examples.tutorials.mnist import input_data\n",
    "from PIL import Image\n",
    "from utils import tile_raster_images\n",
    "import matplotlib.pyplot as plt\n",
    "%matplotlib inline"
   ]
  },
  {
   "cell_type": "markdown",
   "metadata": {},
   "source": [
    "## RBM"
   ]
  },
  {
   "cell_type": "markdown",
   "metadata": {},
   "source": [
    "### A. BASIC RBM (MNIST RECONSTRUCTION)"
   ]
  },
  {
   "cell_type": "code",
   "execution_count": 36,
   "metadata": {
    "collapsed": false
   },
   "outputs": [
    {
     "name": "stdout",
     "output_type": "stream",
     "text": [
      "Extracting MNIST_data/train-images-idx3-ubyte.gz\n",
      "Extracting MNIST_data/train-labels-idx1-ubyte.gz\n",
      "Extracting MNIST_data/t10k-images-idx3-ubyte.gz\n",
      "Extracting MNIST_data/t10k-labels-idx1-ubyte.gz\n"
     ]
    }
   ],
   "source": [
    "# LOAD DATA\n",
    "\n",
    "mnist = input_data.read_data_sets(\"MNIST_data/\", one_hot=True)\n",
    "trX, trY, teX, teY = mnist.train.images, mnist.train.labels, mnist.test.images, mnist.test.labels"
   ]
  },
  {
   "cell_type": "code",
   "execution_count": 69,
   "metadata": {
    "collapsed": false
   },
   "outputs": [
    {
     "name": "stdout",
     "output_type": "stream",
     "text": [
      "Error at the first run:  0.481111\n",
      "\n",
      "Epoch: 0 reconstruction error: 0.060779\n",
      "Epoch: 1 reconstruction error: 0.052581\n",
      "Epoch: 2 reconstruction error: 0.049615\n",
      "Epoch: 3 reconstruction error: 0.047101\n",
      "Epoch: 4 reconstruction error: 0.044976\n"
     ]
    },
    {
     "data": {
      "image/png": "[encoded data removed]",
      "text/plain": [
       "<matplotlib.figure.Figure at 0x1137dc910>"
      ]
     },
     "metadata": {},
     "output_type": "display_data"
    }
   ],
   "source": [
    "# BUILD GRAPH\n",
    "\n",
    "vb = tf.placeholder('float', [784]) # 784-unit bias at input layer.\n",
    "hb = tf.placeholder('float', [500]) # 500-unit bias at hidden/abstraction layer.\n",
    "\n",
    "# weights\n",
    "#   updated with Contrastive Divergence (CD): \n",
    "#   W' = W + alpha*CD, where CD = (pos_grad-neg_grad)/num_data.\n",
    "W = tf.placeholder('float', [784, 500]) # weight/projection matrix from input to hidden layer.\n",
    "\n",
    "# forward pass (positive phase)\n",
    "#   goal: increase the probability of training data.\n",
    "v0 = tf.placeholder('float', [None, 784]) # input of unspecified batch size.\n",
    "_h0 = tf.nn.sigmoid(tf.matmul(v0, W) + hb) # prob of hidden units. (dims: ? x 784 * 784 x 500 + 500)\n",
    "h0 = tf.nn.relu(tf.sign(_h0 - tf.random_uniform(tf.shape(_h0)))) # sampling (h given v) (SEE APPENDIX). \n",
    "\n",
    "# backward pass (negative phase)\n",
    "#   goal: decrease the probability of the samples generated by the model.\n",
    "_v1 = tf.nn.sigmoid(tf.matmul(h0, tf.transpose(W)) + vb) # prob of input units. (dims: 500 * 500 x 784 + 784)\n",
    "v1 = tf.nn.relu(tf.sign(_v1 - tf.random_uniform(tf.shape(_v1)))) # sampling (v given h).\n",
    "\n",
    "# second round ...\n",
    "h1 = tf.nn.sigmoid(tf.matmul(v1, W) + hb) # NB: the same weights.\n",
    "\n",
    "alpha = 1.\n",
    "w_pos_grad = tf.matmul(tf.transpose(v0), h0) # get a 784 x 500 matrix.\n",
    "w_neg_grad = tf.matmul(tf.transpose(v1), h1) \n",
    "CD = (w_pos_grad - w_neg_grad) / tf.to_float(tf.shape(v0)[0])\n",
    "update_w = W + alpha * CD\n",
    "update_vb = vb + alpha * tf.reduce_mean(v0 - v1, 0)\n",
    "update_hb = hb + alpha * tf.reduce_mean(h0 - h1, 0)\n",
    "\n",
    "err = tf.reduce_mean(tf.square(v0 - v1))\n",
    "\n",
    "# TRAINING\n",
    "\n",
    "# initialization\n",
    "cur_w = np.zeros([784, 500], np.float32) # NB: only one set of weights, init with 0 is fine.\n",
    "cur_vb = np.zeros([784], np.float32)\n",
    "cur_hb = np.zeros([500], np.float32)\n",
    "prv_w = np.zeros([784, 500], np.float32)\n",
    "prv_vb = np.zeros([784], np.float32)\n",
    "prv_hb = np.zeros([500], np.float32)\n",
    "\n",
    "sess = tf.Session()\n",
    "sess.run(tf.global_variables_initializer())\n",
    "print \"Error at the first run: \", sess.run(err, feed_dict={v0:trX, W:prv_w, vb:prv_vb, hb:prv_hb})\n",
    "print\n",
    "\n",
    "epochs = 5\n",
    "batchsize = 100\n",
    "weights = []\n",
    "errors = []\n",
    "\n",
    "for epoch in range(epochs):\n",
    "    for start,end in zip(range(0,len(trX),batchsize),range(batchsize,len(trX),batchsize)):\n",
    "        batch = trX[start:end]\n",
    "        cur_w = sess.run(update_w, feed_dict={v0:batch, W:prv_w, vb:prv_vb, hb:prv_hb})\n",
    "        cur_vb = sess.run(update_vb, feed_dict={v0:batch, W:prv_w, vb:prv_vb, hb:prv_hb})\n",
    "        cur_hb = sess.run(update_hb, feed_dict={v0:batch, W:prv_w, vb:prv_vb, hb:prv_hb})\n",
    "        prv_w = cur_w\n",
    "        prv_vb = cur_vb\n",
    "        prv_hb = cur_hb\n",
    "        if start % 10000 == 0:\n",
    "            errors.append(sess.run(err, feed_dict={v0:batch, W:prv_w, vb:prv_vb, hb:prv_hb}))\n",
    "            weights.append(cur_w)\n",
    "    print 'Epoch: %d' % epoch, 'reconstruction error: %f' % errors[-1]\n",
    "\n",
    "plt.plot(errors)\n",
    "plt.xlabel('Batch Number')\n",
    "plt.ylabel('Error')\n",
    "plt.show()"
   ]
  },
  {
   "cell_type": "code",
   "execution_count": 81,
   "metadata": {
    "collapsed": false
   },
   "outputs": [
    {
     "name": "stdout",
     "output_type": "stream",
     "text": [
      "Input Image:\n",
      "\n"
     ]
    },
    {
     "data": {
      "image/png": "[encoded data removed]",
      "text/plain": [
       "<matplotlib.figure.Figure at 0x119354150>"
      ]
     },
     "metadata": {},
     "output_type": "display_data"
    },
    {
     "name": "stdout",
     "output_type": "stream",
     "text": [
      "\n",
      "Output Image:\n",
      "\n"
     ]
    },
    {
     "data": {
      "text/plain": [
       "<matplotlib.image.AxesImage at 0x11963a850>"
      ]
     },
     "execution_count": 81,
     "metadata": {},
     "output_type": "execute_result"
    },
    {
     "data": {
      "image/png": "[encoded data removed]",
      "text/plain": [
       "<matplotlib.figure.Figure at 0x119496890>"
      ]
     },
     "metadata": {},
     "output_type": "display_data"
    }
   ],
   "source": [
    "# PREDICTION\n",
    "\n",
    "print \"Input Image:\\n\"\n",
    "img_in = trX[1:2].reshape(28,28) # trX[1:2] returns shape (1,784), satisfying v0's required shape [None, 784].\n",
    "plt.imshow(img_in, cmap='gray')\n",
    "plt.show()\n",
    "print\n",
    "\n",
    "# pass original image through trained RBM\n",
    "hh0 = tf.nn.sigmoid(tf.matmul(v0, W) + hb)\n",
    "vv1 = tf.nn.sigmoid(tf.matmul(hh0, tf.transpose(W)) + vb)\n",
    "feed = sess.run(hh0, feed_dict={v0:trX[1:2], W:prv_w, hb:prv_hb})\n",
    "rec = sess.run(vv1, feed_dict={hh0:feed, W:prv_w, vb:prv_vb})\n",
    "\n",
    "print \"Output Image:\\n\"\n",
    "img_out = rec.reshape(28,28)\n",
    "plt.imshow(img_out, cmap='gray')"
   ]
  },
  {
   "cell_type": "markdown",
   "metadata": {},
   "source": [
    "##### APPENDIX"
   ]
  },
  {
   "cell_type": "code",
   "execution_count": 82,
   "metadata": {
    "collapsed": false
   },
   "outputs": [
    {
     "name": "stdout",
     "output_type": "stream",
     "text": [
      "[ 0.69999999  0.1         0.80000001  0.2       ]\n",
      "[ 0.14659691  0.33899415  0.08132279  0.69680929]\n",
      "[ 0.55340308 -0.23899415  0.71867722 -0.4968093 ]\n",
      "[ 1. -1.  1. -1.]\n",
      "[ 1.  0.  1.  0.]\n"
     ]
    }
   ],
   "source": [
    "# SAMPLING\n",
    "\n",
    "with tf.Session() as sess:\n",
    "    a = tf.constant([0.7, 0.1, 0.8, 0.2]) # it's setup s.t. 0,2 are more likely to be sampled, and 1,3 less likely.\n",
    "    print sess.run(a)\n",
    "    b = sess.run(tf.random_uniform(tf.shape(a))) # now sample from a length-4 uniform list (4 values between [0,1]).\n",
    "    print b\n",
    "    print sess.run( a - b ) # if a[i] is big, it is more likely to be positive here (on the 'sampled side').\n",
    "    print sess.run(tf.sign( a - b)) # if a value is sampled, use 1 to mark it, otherwise use -1.\n",
    "    print sess.run(tf.nn.relu(tf.sign( a - b))) # turn all -1 marked values to 0, 1 marked to 1.\n",
    "        # result: a list of values (0 or 1), 1's are sampled ones."
   ]
  },
  {
   "cell_type": "markdown",
   "metadata": {},
   "source": [
    "### B. RBM-BASED COLLABORATIVE FILTER"
   ]
  },
  {
   "cell_type": "code",
   "execution_count": null,
   "metadata": {
    "collapsed": true
   },
   "outputs": [],
   "source": []
  },
  {
   "cell_type": "code",
   "execution_count": null,
   "metadata": {
    "collapsed": true
   },
   "outputs": [],
   "source": []
  },
  {
   "cell_type": "code",
   "execution_count": null,
   "metadata": {
    "collapsed": true
   },
   "outputs": [],
   "source": []
  },
  {
   "cell_type": "code",
   "execution_count": null,
   "metadata": {
    "collapsed": true
   },
   "outputs": [],
   "source": []
  }
 ],
 "metadata": {
  "kernelspec": {
   "display_name": "Python 2",
   "language": "python",
   "name": "python2"
  }
 },
 "nbformat": 4,
 "nbformat_minor": 0
}
